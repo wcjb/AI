{
 "cells": [
  {
   "cell_type": "markdown",
   "metadata": {},
   "source": [
    "# 环境测试"
   ]
  },
  {
   "cell_type": "code",
   "execution_count": 35,
   "metadata": {
    "ExecuteTime": {
     "end_time": "2020-05-19T15:17:49.091509Z",
     "start_time": "2020-05-19T15:17:49.085992Z"
    }
   },
   "outputs": [],
   "source": [
    "import tensorflow  as tf\n",
    "# 使用显卡进行时，将GPU的显存使用策略设置为 “仅在需要时申请显存空间”,不然会申请所有显存空间，报错\n",
    "gpu_devices = tf.config.experimental.list_physical_devices(\"GPU\")\n",
    "for device in gpu_devices:\n",
    "    tf.config.experimental.set_memory_growth(device, True)"
   ]
  },
  {
   "cell_type": "markdown",
   "metadata": {},
   "source": [
    "返回运行时可见的物理设备列表，默认情况下，所有发现的CPU和GPU设备都被视为可见的。"
   ]
  },
  {
   "cell_type": "code",
   "execution_count": 36,
   "metadata": {
    "ExecuteTime": {
     "end_time": "2020-05-19T15:17:54.803749Z",
     "start_time": "2020-05-19T15:17:54.798113Z"
    }
   },
   "outputs": [
    {
     "data": {
      "text/plain": [
       "[PhysicalDevice(name='/physical_device:CPU:0', device_type='CPU'),\n",
       " PhysicalDevice(name='/physical_device:XLA_CPU:0', device_type='XLA_CPU'),\n",
       " PhysicalDevice(name='/physical_device:GPU:0', device_type='GPU'),\n",
       " PhysicalDevice(name='/physical_device:XLA_GPU:0', device_type='XLA_GPU')]"
      ]
     },
     "execution_count": 36,
     "metadata": {},
     "output_type": "execute_result"
    }
   ],
   "source": [
    "tf.config.experimental.list_physical_devices(device_type=None)"
   ]
  },
  {
   "cell_type": "markdown",
   "metadata": {},
   "source": [
    "查看GPU设备信息"
   ]
  },
  {
   "cell_type": "code",
   "execution_count": 37,
   "metadata": {
    "ExecuteTime": {
     "end_time": "2020-05-19T15:17:57.448775Z",
     "start_time": "2020-05-19T15:17:57.235665Z"
    },
    "scrolled": true
   },
   "outputs": [
    {
     "name": "stdout",
     "output_type": "stream",
     "text": [
      "Tue May 19 23:17:57 2020       \r\n",
      "+-----------------------------------------------------------------------------+\r\n",
      "| NVIDIA-SMI 440.64       Driver Version: 440.64       CUDA Version: 10.2     |\r\n",
      "|-------------------------------+----------------------+----------------------+\r\n",
      "| GPU  Name        Persistence-M| Bus-Id        Disp.A | Volatile Uncorr. ECC |\r\n",
      "| Fan  Temp  Perf  Pwr:Usage/Cap|         Memory-Usage | GPU-Util  Compute M. |\r\n",
      "|===============================+======================+======================|\r\n",
      "|   0  GeForce RTX 2070    Off  | 00000000:01:00.0  On |                  N/A |\r\n",
      "|  0%   51C    P8    19W / 175W |   4923MiB /  7979MiB |      0%      Default |\r\n",
      "+-------------------------------+----------------------+----------------------+\r\n",
      "                                                                               \r\n",
      "+-----------------------------------------------------------------------------+\r\n",
      "| Processes:                                                       GPU Memory |\r\n",
      "|  GPU       PID   Type   Process name                             Usage      |\r\n",
      "|=============================================================================|\r\n",
      "|    0       903      G   /usr/lib/xorg/Xorg                            66MiB |\r\n",
      "|    0      1566      G   /usr/bin/gnome-shell                          85MiB |\r\n",
      "|    0      5359      C   /home/wcjb/anaconda3/bin/python             4759MiB |\r\n",
      "+-----------------------------------------------------------------------------+\r\n"
     ]
    }
   ],
   "source": [
    "!nvidia-smi"
   ]
  },
  {
   "cell_type": "markdown",
   "metadata": {},
   "source": [
    "检查GPU是否可用"
   ]
  },
  {
   "cell_type": "code",
   "execution_count": 5,
   "metadata": {
    "ExecuteTime": {
     "end_time": "2020-05-13T14:02:18.203932Z",
     "start_time": "2020-05-13T14:02:18.049602Z"
    }
   },
   "outputs": [
    {
     "data": {
      "text/plain": [
       "True"
      ]
     },
     "execution_count": 5,
     "metadata": {},
     "output_type": "execute_result"
    }
   ],
   "source": [
    "tf.test.is_gpu_available()"
   ]
  },
  {
   "cell_type": "markdown",
   "metadata": {},
   "source": [
    "查看GPU是否可用"
   ]
  },
  {
   "cell_type": "code",
   "execution_count": 7,
   "metadata": {},
   "outputs": [
    {
     "data": {
      "text/plain": [
       "[PhysicalDevice(name='/physical_device:GPU:0', device_type='GPU')]"
      ]
     },
     "execution_count": 7,
     "metadata": {},
     "output_type": "execute_result"
    }
   ],
   "source": [
    "tf.config.experimental.list_physical_devices('GPU')"
   ]
  },
  {
   "cell_type": "code",
   "execution_count": 6,
   "metadata": {
    "ExecuteTime": {
     "end_time": "2020-05-13T14:02:51.285178Z",
     "start_time": "2020-05-13T14:02:51.279311Z"
    }
   },
   "outputs": [],
   "source": [
    "# 启用设备放置日志记录将导致打印任何张量分配或操作\n",
    "tf.debugging.set_log_device_placement(True)"
   ]
  },
  {
   "cell_type": "code",
   "execution_count": 6,
   "metadata": {
    "ExecuteTime": {
     "end_time": "2020-05-13T09:16:46.843931Z",
     "start_time": "2020-05-13T09:16:46.776799Z"
    }
   },
   "outputs": [
    {
     "data": {
      "text/plain": [
       "VirtualDeviceConfiguration(memory_limit=1024)"
      ]
     },
     "execution_count": 6,
     "metadata": {},
     "output_type": "execute_result"
    }
   ],
   "source": [
    "tf.config.experimental.VirtualDeviceConfiguration(memory_limit=1024)"
   ]
  },
  {
   "cell_type": "markdown",
   "metadata": {},
   "source": [
    "# 数据处理"
   ]
  },
  {
   "cell_type": "markdown",
   "metadata": {},
   "source": [
    "## 数据载入"
   ]
  },
  {
   "cell_type": "markdown",
   "metadata": {},
   "source": [
    "+ CIFAR-10数据集\n",
    "\n",
    "&emsp;&emsp;CIFAR-10数据集是一个用于识别普适物体的小型数据集，它一共包含10个类别的RGB彩色图片：飞机（airplane）、汽车（automobile）、鸟类（bird）、猫（cat）、鹿（deer）、狗（dog）、蛙类（frog）、马（horse）、船（ship）和卡车（truck）。图片的尺寸为32x32，该数据集一共有50000张训练图片和10000张测试图片。"
   ]
  },
  {
   "cell_type": "markdown",
   "metadata": {},
   "source": [
    "&emsp;&emsp;1个10000x3072大小的uint8s数组。数组的每行存储1张32*32的图像,第1个1024包含红色通道值，下1个包含绿色，最后的1024包含蓝色。图像存储以行顺序为主，所以数组的前32列为图像第1行的红色通道值。"
   ]
  },
  {
   "cell_type": "code",
   "execution_count": 2,
   "metadata": {
    "ExecuteTime": {
     "end_time": "2020-05-19T14:16:56.337309Z",
     "start_time": "2020-05-19T14:16:56.314247Z"
    }
   },
   "outputs": [],
   "source": [
    "import pickle\n",
    "import os\n",
    "from PIL import Image\n",
    "from tqdm import tqdm\n",
    "import numpy as np\n",
    "class CIFAR10(object):\n",
    "    \n",
    "    def __init__(self,path='/home/wcjb/Code/Dataset/cifar-10-batches-py/'):\n",
    "        self.trainpath = [os.path.join(path,'data_batch_'+str(i+1)) for i in range(5)]\n",
    "        self.testpath = [os.path.join(path,'test_batch')]\n",
    "    \n",
    "    def unpickle(self,file):\n",
    "        with open(file, 'rb') as fo:\n",
    "            dict = pickle.load(fo, encoding = 'iso-8859-1') # \n",
    "        return dict\n",
    "    \n",
    "    def load_batch(self,file):\n",
    "        \n",
    "        with open(file, 'rb')as f:\n",
    "            datadict = self.unpickle(file)\n",
    "            data = datadict['data']\n",
    "            label = datadict['labels']\n",
    "            data = data.reshape(10000, 3, 32, 32)\n",
    "            label = np.array(label)\n",
    "            return data,label\n",
    "        \n",
    "    def toimg(self,data):\n",
    "        img = []\n",
    "        for i in range(data.shape[0]):\n",
    "            imgs = data[i - 1]\n",
    "            r = imgs[0]\n",
    "            g = imgs[1]\n",
    "            b = imgs[2]\n",
    "            R = Image.fromarray(r)\n",
    "            G = Image.fromarray(g)\n",
    "            B = Image.fromarray(b)\n",
    "            \n",
    "            img.append(Image.merge(\"RGB\",(R,G,B)))\n",
    "        return img\n",
    "            \n",
    "        \n",
    "    def cif2img(self):\n",
    "        \n",
    "        train_img,test_img = [],[]\n",
    "    \n",
    "        for tp in tqdm(self.trainpath,desc='Train-img'):\n",
    "            \n",
    "            data,label = self.load_batch(tp)\n",
    "            train_img.append(self.toimg(data))\n",
    "            \n",
    "        for tp in tqdm(self.testpath,desc='Test-img '):\n",
    "            \n",
    "            data,label = self.load_batch(tp)\n",
    "            test_img.append(self.toimg(data))\n",
    "            \n",
    "            \n",
    "        return train_img,test_img\n",
    "        \n",
    "    def cif2data(self):\n",
    "        \n",
    "        x_train,y_train,x_test,y_test = [],[],[],[]\n",
    "        for tp in tqdm(self.trainpath,desc='Train'):\n",
    "            data,label = self.load_batch(tp)\n",
    "            x_train.append(data)\n",
    "            y_train.append(label)\n",
    "        for tp in tqdm(self.testpath,desc='Test '):\n",
    "            data,label = self.load_batch(tp)\n",
    "            x_test.append(data)\n",
    "            y_test.append(label)\n",
    "        x_train,y_train = np.array(x_train).reshape(-1,3,32,32),np.array(y_train).reshape(-1,)\n",
    "        x_test,y_test = np.array(x_test).reshape(-1,3,32,32),np.array(y_test).reshape(-1,)\n",
    "        x_train,x_test = np.rollaxis(x_train, 1,4),np.rollaxis(x_test,1, 4)\n",
    "        \n",
    "        return x_train,y_train,x_test,y_test"
   ]
  },
  {
   "cell_type": "code",
   "execution_count": 3,
   "metadata": {
    "ExecuteTime": {
     "end_time": "2020-05-19T14:17:01.866611Z",
     "start_time": "2020-05-19T14:16:59.148941Z"
    }
   },
   "outputs": [
    {
     "name": "stderr",
     "output_type": "stream",
     "text": [
      "Train-img: 100%|██████████| 5/5 [00:02<00:00,  2.39it/s]\n",
      "Test-img : 100%|██████████| 1/1 [00:00<00:00,  2.41it/s]\n",
      "Train: 100%|██████████| 5/5 [00:00<00:00, 40.06it/s]\n",
      "Test : 100%|██████████| 1/1 [00:00<00:00, 40.89it/s]\n"
     ]
    }
   ],
   "source": [
    "cif = CIFAR10()\n",
    "# 将CIFAR10数据集加载为图片数据\n",
    "train_img,test_img = cif.cif2img()\n",
    "# 将将CIFAR10数据集加载为多维数据用于训练\n",
    "x_train,y_train,x_test,y_test = cif.cif2data()"
   ]
  },
  {
   "cell_type": "markdown",
   "metadata": {},
   "source": [
    "## 特征工程"
   ]
  },
  {
   "cell_type": "markdown",
   "metadata": {},
   "source": [
    "### 查看数据集样本的图片"
   ]
  },
  {
   "cell_type": "code",
   "execution_count": 39,
   "metadata": {
    "ExecuteTime": {
     "end_time": "2020-05-19T15:21:56.946490Z",
     "start_time": "2020-05-19T15:21:56.850637Z"
    }
   },
   "outputs": [
    {
     "data": {
      "text/plain": [
       "<matplotlib.image.AxesImage at 0x7fdf95f79b90>"
      ]
     },
     "execution_count": 39,
     "metadata": {},
     "output_type": "execute_result"
    },
    {
     "data": {
      "image/png": "[encoded data removed]",
      "text/plain": [
       "<Figure size 432x288 with 1 Axes>"
      ]
     },
     "metadata": {
      "needs_background": "light"
     },
     "output_type": "display_data"
    }
   ],
   "source": [
    "import matplotlib.pyplot as plt\n",
    "%matplotlib inline\n",
    "plt.imshow(train_img[0][0])"
   ]
  },
  {
   "cell_type": "code",
   "execution_count": 5,
   "metadata": {
    "ExecuteTime": {
     "end_time": "2020-05-19T14:17:10.523995Z",
     "start_time": "2020-05-19T14:17:10.433516Z"
    }
   },
   "outputs": [
    {
     "data": {
      "text/plain": [
       "<matplotlib.image.AxesImage at 0x7fdfd8bf4250>"
      ]
     },
     "execution_count": 5,
     "metadata": {},
     "output_type": "execute_result"
    },
    {
     "data": {
      "image/png": "[encoded data removed]",
      "text/plain": [
       "<Figure size 432x288 with 1 Axes>"
      ]
     },
     "metadata": {
      "needs_background": "light"
     },
     "output_type": "display_data"
    }
   ],
   "source": [
    "plt.imshow(test_img[0][0])"
   ]
  },
  {
   "cell_type": "markdown",
   "metadata": {},
   "source": [
    "### 查看数据集的样本的数组形态"
   ]
  },
  {
   "cell_type": "code",
   "execution_count": 6,
   "metadata": {
    "ExecuteTime": {
     "end_time": "2020-05-19T14:17:12.696241Z",
     "start_time": "2020-05-19T14:17:12.689129Z"
    }
   },
   "outputs": [
    {
     "data": {
      "text/plain": [
       "(50000, 32, 32, 3)"
      ]
     },
     "execution_count": 6,
     "metadata": {},
     "output_type": "execute_result"
    }
   ],
   "source": [
    "x_train.shape"
   ]
  },
  {
   "cell_type": "markdown",
   "metadata": {},
   "source": [
    "### 数据增强处理函数\n",
    "\n",
    "+ 直方图均衡化\n",
    "\n",
    "&emsp;&emsp;直方图均衡化通常用来增加许多图像的全局对比度，尤其是当图像的有用数据的对比度相当接近的时候。通过这种方法，亮度可以更好地在直方图上分布。这样就可以用于增强局部的对比度而不影响整体的对比度，直方图均衡化通过有效地扩展常用的亮度来实现这种功能。这种方法对于背景和前景都太亮或者太暗的图像非常有用，这种方法尤其是可以带来X光图像中更好的骨骼结构显示以及曝光过度或者曝光不足照片中更好的细节。这种方法的一个主要优势是它是一个相当直观的技术并且是可逆操作，如果已知均衡化函数，那么就可以恢复原始的直方图，并且计算量也不大。这种方法的一个缺点是它对处理的数据不加选择，它可能会增加背景噪声的对比度并且降低有用信号的对比度。"
   ]
  },
  {
   "cell_type": "code",
   "execution_count": 7,
   "metadata": {
    "ExecuteTime": {
     "end_time": "2020-05-19T14:17:18.779553Z",
     "start_time": "2020-05-19T14:17:18.562245Z"
    }
   },
   "outputs": [],
   "source": [
    "import shutil\n",
    "from PIL import Image\n",
    "import sys\n",
    "import cv2\n",
    "from tqdm import notebook\n",
    "class DataAugumentation(object):\n",
    "    \n",
    "    def __init__(self,num=10):\n",
    "        \n",
    "        self.num = num\n",
    "\n",
    "    def CLAHE(self,img):\n",
    "        grayimg = cv2.cvtColor(img, cv2.COLOR_BGR2GRAY)\n",
    "        # 局部直方图均值化\n",
    "        clahe = cv2.createCLAHE(clipLimit=2.0, tileGridSize=(8,8))\n",
    "        cl1 = clahe.apply(grayimg)\n",
    "        return cl1\n",
    "\n",
    "    def Histograms_Equalization(self,img):\n",
    "        \n",
    "        grayimg = cv2.cvtColor(img, cv2.COLOR_BGR2GRAY)\n",
    "        # 直方图均值化\n",
    "        equ = cv2.equalizeHist(grayimg)\n",
    "        return equ\n",
    "\n",
    "    def make_one_hot(self,data):\n",
    "        return (np.arange(self.num)==data[:,None]).astype(np.int64)\n",
    "    \n",
    "    def augument(self,imgs,labels):\n",
    "        '''\n",
    "        使用图像处理方法进行数据增强，直方图均值化和局部直方图均值化\n",
    "        再加上灰度图和原图片可以将数据集增大三倍\n",
    "        '''\n",
    "        x_data,y_data = [],[]\n",
    "        \n",
    "        for img,label in notebook.tqdm(zip(imgs,labels),desc='数据增强进度'):\n",
    "            \n",
    "            imggray = cv2.cvtColor(img, cv2.COLOR_BGR2GRAY)\n",
    "            x_data.append(imggray.astype('float32') / 255.0)\n",
    "            y_data.append(label)\n",
    "\n",
    "            he_image = self.Histograms_Equalization(img)\n",
    "            x_data.append(he_image.astype('float32') / 255.0)\n",
    "            y_data.append(label)\n",
    "\n",
    "            clahe_img = self.CLAHE(img)\n",
    "            x_data.append(clahe_img.astype('float32') / 255.0)\n",
    "            y_data.append(label)\n",
    "            \n",
    "        return np.array(x_data),np.array(y_data)"
   ]
  },
  {
   "cell_type": "markdown",
   "metadata": {},
   "source": [
    "### 处理训练集"
   ]
  },
  {
   "cell_type": "code",
   "execution_count": 8,
   "metadata": {
    "ExecuteTime": {
     "end_time": "2020-05-19T14:17:27.886306Z",
     "start_time": "2020-05-19T14:17:23.747428Z"
    }
   },
   "outputs": [
    {
     "data": {
      "application/vnd.jupyter.widget-view+json": {
       "model_id": "2a18f06e360445768e7d1837919b90e2",
       "version_major": 2,
       "version_minor": 0
      },
      "text/plain": [
       "HBox(children=(FloatProgress(value=1.0, bar_style='info', description='数据增强进度', max=1.0, style=ProgressStyle(d…"
      ]
     },
     "metadata": {},
     "output_type": "display_data"
    },
    {
     "name": "stdout",
     "output_type": "stream",
     "text": [
      "\n"
     ]
    },
    {
     "data": {
      "application/vnd.jupyter.widget-view+json": {
       "model_id": "69badc1ef917458a90bd09d295bdb08a",
       "version_major": 2,
       "version_minor": 0
      },
      "text/plain": [
       "HBox(children=(FloatProgress(value=1.0, bar_style='info', description='数据增强进度', max=1.0, style=ProgressStyle(d…"
      ]
     },
     "metadata": {},
     "output_type": "display_data"
    },
    {
     "name": "stdout",
     "output_type": "stream",
     "text": [
      "\n"
     ]
    }
   ],
   "source": [
    "da = DataAugumentation()\n",
    "x_new_train,y_new_train = da.augument(x_train,y_train)\n",
    "x_new_test,y_new_test = da.augument(x_test,y_test)"
   ]
  },
  {
   "cell_type": "markdown",
   "metadata": {},
   "source": [
    "+ 扩展数据维度，计算卷积"
   ]
  },
  {
   "cell_type": "code",
   "execution_count": 9,
   "metadata": {
    "ExecuteTime": {
     "end_time": "2020-05-19T14:17:29.165597Z",
     "start_time": "2020-05-19T14:17:29.160561Z"
    }
   },
   "outputs": [],
   "source": [
    "x_new_train = np.expand_dims(x_new_train, 3)\n",
    "x_new_test = np.expand_dims(x_new_test,3)"
   ]
  },
  {
   "cell_type": "markdown",
   "metadata": {},
   "source": [
    "可以看到，数据集增强之后比较大，所以可以把增强后的数据集保存在本地方便再次复用。"
   ]
  },
  {
   "cell_type": "code",
   "execution_count": 10,
   "metadata": {
    "ExecuteTime": {
     "end_time": "2020-05-19T14:17:34.210588Z",
     "start_time": "2020-05-19T14:17:31.504875Z"
    }
   },
   "outputs": [],
   "source": [
    "pickle.dump(x_new_train, open('./CifaData/x_new_train.p', 'wb'))\n",
    "pickle.dump(y_new_train, open('./CifaData/y_new_train.p', 'wb'))\n",
    "pickle.dump(x_new_test, open('./CifaData/x_new_test.p', 'wb'))\n",
    "pickle.dump(y_new_test, open('./CifaData/y_new_test.p', 'wb'))"
   ]
  },
  {
   "cell_type": "code",
   "execution_count": 11,
   "metadata": {
    "ExecuteTime": {
     "end_time": "2020-05-19T14:17:36.261206Z",
     "start_time": "2020-05-19T14:17:36.124801Z"
    },
    "scrolled": true
   },
   "outputs": [
    {
     "name": "stdout",
     "output_type": "stream",
     "text": [
      "总用量 705M\r\n",
      "-rw-rw-r-- 1 wcjb wcjb 118M 5月  19 22:17 x_new_test.p\r\n",
      "-rw-rw-r-- 1 wcjb wcjb 586M 5月  19 22:17 x_new_train.p\r\n",
      "-rw-rw-r-- 1 wcjb wcjb 235K 5月  19 22:17 y_new_test.p\r\n",
      "-rw-rw-r-- 1 wcjb wcjb 1.2M 5月  19 22:17 y_new_train.p\r\n"
     ]
    }
   ],
   "source": [
    "!cd CifaData && ls -hl"
   ]
  },
  {
   "cell_type": "code",
   "execution_count": 29,
   "metadata": {
    "ExecuteTime": {
     "end_time": "2020-05-14T08:46:01.938054Z",
     "start_time": "2020-05-14T08:46:01.918327Z"
    }
   },
   "outputs": [],
   "source": [
    "# with open('./CifaData/y_new_train.p', 'rb') as fo:\n",
    "#     y_n_train = pickle.load(fo, encoding = 'iso-8859-1')"
   ]
  },
  {
   "cell_type": "markdown",
   "metadata": {},
   "source": [
    "# 搭建模型"
   ]
  },
  {
   "cell_type": "code",
   "execution_count": 21,
   "metadata": {
    "ExecuteTime": {
     "end_time": "2020-05-19T15:07:45.492708Z",
     "start_time": "2020-05-19T15:07:45.465325Z"
    },
    "code_folding": [
     48,
     68,
     72,
     76,
     94,
     142,
     159,
     171
    ]
   },
   "outputs": [],
   "source": [
    "import tensorflow as tf\n",
    "import datetime\n",
    "import time\n",
    "\n",
    "MODEL_DIR = \"./models\"\n",
    "\n",
    "class network(tf.keras.Model):\n",
    "    \n",
    "    def __init__(self,n_class=10,learning_rate=1e-4):\n",
    "        \n",
    "        super(network,self).__init__()\n",
    "        \n",
    "        # 定义网络结构\n",
    "        self.conv2d_01 = tf.keras.layers.Convolution2D (kernel_size = (5, 5),input_shape=(32,32,1), filters = 100, activation='relu')\n",
    "        self.maxpool2d_01 = tf.keras.layers.MaxPool2D()\n",
    "        self.conv2d_02 = tf.keras.layers.Convolution2D (kernel_size = (3, 3), filters = 150, activation='relu')\n",
    "        self.maxpool2d_02 = tf.keras.layers.MaxPool2D()\n",
    "        self.conv2d_03 = tf.keras.layers.Convolution2D (kernel_size = (3, 3), filters = 250, padding='same', activation='relu')\n",
    "        self.maxpool2d_03 = tf.keras.layers.MaxPool2D()\n",
    "        self.flatten = tf.keras.layers.Flatten()\n",
    "        self.dense_01 = tf.keras.layers.Dense(512, activation='relu')\n",
    "        self.dense_02 = tf.keras.layers.Dense(300, activation='relu')\n",
    "        self.dense_03 = tf.keras.layers.Dense(10,activation='softmax')\n",
    "        \n",
    "        # 优化器\n",
    "        self.optimizer = tf.optimizers.Adam(learning_rate=learning_rate)\n",
    "        # 确认模型日志目录是否存在，若不存在则创建\n",
    "        if not tf.io.gfile.exists(MODEL_DIR):\n",
    "            tf.io.gfile.makedirs(MODEL_DIR)\n",
    "        # 申明训练和测试日志路径\n",
    "        train_dir = os.path.join(MODEL_DIR, 'summaries', 'train')\n",
    "        test_dir = os.path.join(MODEL_DIR, 'summaries', 'eval')\n",
    "        \n",
    "        # 根据给定文件在当前上下文环境中创建日志记录器，记录数据摘要，便于可视化及分析并且每个10000刷新\n",
    "        self.train_summary_writer = tf.summary.create_file_writer(train_dir, flush_millis=10000)\n",
    "        self.test_summary_writer = tf.summary.create_file_writer(test_dir, flush_millis=10000, name='test')\n",
    "        \n",
    "        # 将可追踪变量以二进制的方式储存成一个checkpoint 档(.ckpt)，\n",
    "        # 即储存变量的名字和对应的张量的数值。\n",
    "        checkpoint_dir = os.path.join(MODEL_DIR, 'checkpoints')\n",
    "        self.checkpoint_prefix = os.path.join(checkpoint_dir, 'ckpt')\n",
    "        \n",
    "        self.checkpoint = tf.train.Checkpoint(model=self, optimizer=self.optimizer)\n",
    "        # 只保存最近10个模型文件\n",
    "        tf.train.CheckpointManager(self.checkpoint, directory=checkpoint_dir, checkpoint_name='network.ckpt', max_to_keep=10)\n",
    "        # 返回目录下最近一次checkpoint的文件名，并恢复模型参数\n",
    "        self.checkpoint.restore(tf.train.latest_checkpoint(checkpoint_dir))\n",
    "        \n",
    "    def call(self,inputs):\n",
    "        \n",
    "        x = self.conv2d_01(inputs)\n",
    "        x = self.maxpool2d_01(x)\n",
    "        \n",
    "        x = self.conv2d_02(x)\n",
    "        x = self.maxpool2d_02(x)\n",
    "        \n",
    "        x = self.conv2d_03(x)\n",
    "        x = self.maxpool2d_03(x)\n",
    "        \n",
    "        x = self.flatten(x)\n",
    "      \n",
    "        x = self.dense_01(x)\n",
    "        x = self.dense_02(x)\n",
    "        x = self.dense_03(x)\n",
    "        \n",
    "        return x\n",
    "        \n",
    "    @tf.function()\n",
    "    def loss(self, logits, labels):\n",
    "        return tf.reduce_mean(tf.keras.losses.sparse_categorical_crossentropy(labels, logits, from_logits=True))\n",
    "\n",
    "    @tf.function()\n",
    "    def accuracy(self, logits, labels):\n",
    "        return tf.keras.metrics.sparse_categorical_accuracy(labels, logits)\n",
    "    \n",
    "    @tf.function(experimental_relax_shapes=True)\n",
    "    def train_step(self, images, labels):\n",
    "        \n",
    "        with tf.device('/GPU:0'):\n",
    "            with tf.GradientTape() as tape:\n",
    "                # 前向计算\n",
    "                logits = self.call(images)\n",
    "                # 计算当前批次模型的损失函数\n",
    "                loss = self.loss(logits, labels)\n",
    "                # 计算当前批次的模型准确率\n",
    "                accuracy = self.accuracy(logits, labels)\n",
    "            #=====================反向过程=====================\n",
    "            # 计算梯度\n",
    "            grads = tape.gradient(loss, self.trainable_variables)\n",
    "            # 使用梯度更新可训练集合的变量\n",
    "            self.optimizer.apply_gradients(zip(grads, self.trainable_variables))\n",
    "            \n",
    "        return loss, accuracy, logits\n",
    "\n",
    "    def train(self, train_dataset, test_dataset, epochs=1, log_freq=50):\n",
    "        \n",
    "        for i in range(epochs):\n",
    "            \n",
    "            train_start = time.time()\n",
    "            # 在该上下文环境中记录可追踪变量\n",
    "            with self.train_summary_writer.as_default():\n",
    "                \n",
    "                start = time.time()\n",
    "               # metrics指标是有状态的。当调用.result()时，会计算累计值并返回累计的结果。使用.reset_states()可以清除累积值\n",
    "                avg_loss = tf.keras.metrics.Mean('loss', dtype=tf.float32)  \n",
    "                avg_accuracy = tf.keras.metrics.Mean('accuracy', dtype=tf.float32)  \n",
    "\n",
    "                for images, labels in train_dataset:\n",
    "\n",
    "                    loss, accuracy, logits = self.train_step(images, labels)\n",
    "                    # 持续纪律损失值\n",
    "                    avg_loss(loss)\n",
    "                    # 持续记录分类正确率\n",
    "                    avg_accuracy(accuracy)\n",
    "                    # 在训练log_freq次后，记录变量，并计算累计指标值\n",
    "                    # optimizer.iterations 记录了优化器运行的训练步数\n",
    "                    if tf.equal(self.optimizer.iterations % log_freq, 0):\n",
    "                        # 在日志中写入变量的摘要\n",
    "                        tf.summary.scalar('loss', avg_loss.result(), step=self.optimizer.iterations)\n",
    "                        tf.summary.scalar('accuracy', avg_accuracy.result(), step=self.optimizer.iterations)\n",
    "                        # 计算完成一个批次训练所需要的时间\n",
    "                        rate = log_freq / (time.time() - start)\n",
    "                        print('Step{} Loss: {:0.4f} accuracy: {:0.2f}% ({:0.2f} steps/sec)'.format(self.optimizer.iterations.numpy(), loss, (avg_accuracy.result() * 100), rate))\n",
    "                        \n",
    "                        # 清除当前训练批次的指标累计值，进入下一训练批次\n",
    "                        avg_loss.reset_states()\n",
    "                        avg_accuracy.reset_states()\n",
    "                        start = time.time()\n",
    "\n",
    "            train_end = time.time()\n",
    "            \n",
    "            print('\\nTrain time for epoch: {} ({} total steps): {}'.format(i + 1, self.optimizer.iterations.numpy(), train_end - train_start))\n",
    "            \n",
    "            with self.test_summary_writer.as_default():\n",
    "                self.test(test_dataset, self.optimizer.iterations)\n",
    "            # 保存当前epoch的模型参数\n",
    "            self.checkpoint.save(self.checkpoint_prefix)\n",
    "            #在训练后保存模型会报错，暂时没有解决\n",
    "#         self.export_path = os.path.join(MODEL_DIR, 'export')\n",
    "#         tf.saved_model.save(self, self.export_path)\n",
    "        \n",
    "    \n",
    "    def test(self, test_dataset, step_num):\n",
    "        \"\"\"\n",
    "        评估模型在验证集上的正确率\n",
    "        \"\"\"\n",
    "        \n",
    "        avg_loss = tf.keras.metrics.Mean('loss', dtype=tf.float32)\n",
    "        avg_accuracy = tf.keras.metrics.Mean('accuracy', dtype=tf.float32)\n",
    "        # 只需要计算前向过程,需要计算相应指标\n",
    "        for (images, labels) in test_dataset:\n",
    "            logits = self.call(images)\n",
    "            avg_loss(self.loss(logits, labels))\n",
    "            avg_accuracy(self.accuracy(logits, labels))\n",
    "\n",
    "        print('Test-Loss: {:0.4f} Test-Accuracy: {:0.2f}%'.format(avg_loss.result(), avg_accuracy.result() * 100))\n",
    "        tf.summary.scalar('loss', avg_loss.result(), step=step_num)\n",
    "        tf.summary.scalar('accuracy', avg_accuracy.result(), step=step_num)\n",
    "            \n",
    "    def evaluat(self, test_dataset):\n",
    "        # 模型保存报错，暂未解决,故无法读取\n",
    "#         restored_model = tf.saved_model.restore(self.export_path)\n",
    "#         y_predict = restored_model(x_test)\n",
    "        avg_accuracy = tf.keras.metrics.Mean('accuracy', dtype=tf.float32)\n",
    "\n",
    "        for (images, labels) in test_dataset:\n",
    "            logits = self.call(images)\n",
    "            avg_accuracy(self.accuracy(logits, labels))\n",
    "\n",
    "        print('Model accuracy: {:0.2f}%'.format(avg_accuracy.result() * 100))\n",
    "\n",
    "    def forward(self, xs):\n",
    "        \"\"\"\n",
    "        完成模型的前向计算，用于实际预测\n",
    "        \"\"\"\n",
    "        predictions = self.call(xs)\n",
    "        logits = tf.nn.softmax(predictions)\n",
    "\n",
    "        return logits\n",
    "    "
   ]
  },
  {
   "cell_type": "markdown",
   "metadata": {},
   "source": [
    "使用tf.data.Dataset创建可迭代访问的数据集，便于按批次进行训练"
   ]
  },
  {
   "cell_type": "code",
   "execution_count": 24,
   "metadata": {
    "ExecuteTime": {
     "end_time": "2020-05-19T15:11:05.023368Z",
     "start_time": "2020-05-19T15:11:04.470924Z"
    }
   },
   "outputs": [],
   "source": [
    "# 由于是在显卡在进行训练，不过不是大显存请使用较小的Batch Size\n",
    "val_dataset = tf.data.Dataset.from_tensor_slices((x_new_test.astype(np.float32), y_new_test))\n",
    "val_dataset = val_dataset.shuffle(10000).batch(1024)\n",
    "\n",
    "dataset = tf.data.Dataset.from_tensor_slices((x_new_train.astype(np.float32), y_new_train))\n",
    "dataset = dataset.shuffle(5000).batch(1024)  "
   ]
  },
  {
   "cell_type": "code",
   "execution_count": 25,
   "metadata": {
    "ExecuteTime": {
     "end_time": "2020-05-19T15:11:18.760323Z",
     "start_time": "2020-05-19T15:11:05.807255Z"
    },
    "scrolled": true
   },
   "outputs": [
    {
     "name": "stdout",
     "output_type": "stream",
     "text": [
      "Step72550 Loss: 1.5211 accuracy: 94.14% (13.43 steps/sec)\n",
      "Step72600 Loss: 1.5097 accuracy: 94.07% (15.38 steps/sec)\n",
      "Step72650 Loss: 1.5188 accuracy: 94.38% (15.44 steps/sec)\n",
      "\n",
      "Train time for epoch: 1 (72666 total steps): 11.80623173713684\n",
      "Test-Loss: 1.7723 Test-Accuracy: 68.68%\n"
     ]
    }
   ],
   "source": [
    "net = network()\n",
    "net.train(dataset, val_dataset,1)"
   ]
  },
  {
   "cell_type": "code",
   "execution_count": 32,
   "metadata": {
    "ExecuteTime": {
     "end_time": "2020-05-19T15:15:48.291686Z",
     "start_time": "2020-05-19T15:15:48.209990Z"
    }
   },
   "outputs": [
    {
     "data": {
      "text/plain": [
       "<tf.Tensor: shape=(1, 10), dtype=float32, numpy=\n",
       "array([[0.0853368 , 0.0853368 , 0.0853368 , 0.08533724, 0.0853368 ,\n",
       "        0.0853368 , 0.23196831, 0.0853368 , 0.0853368 , 0.0853368 ]],\n",
       "      dtype=float32)>"
      ]
     },
     "execution_count": 32,
     "metadata": {},
     "output_type": "execute_result"
    }
   ],
   "source": [
    "net.forward(x_new_train[:1])"
   ]
  },
  {
   "cell_type": "code",
   "execution_count": 34,
   "metadata": {
    "ExecuteTime": {
     "end_time": "2020-05-19T15:16:27.446678Z",
     "start_time": "2020-05-19T15:16:27.440804Z"
    }
   },
   "outputs": [
    {
     "data": {
      "text/plain": [
       "array([6])"
      ]
     },
     "execution_count": 34,
     "metadata": {},
     "output_type": "execute_result"
    }
   ],
   "source": [
    "y_new_train[:1]"
   ]
  },
  {
   "cell_type": "code",
   "execution_count": 26,
   "metadata": {
    "ExecuteTime": {
     "end_time": "2020-05-19T15:12:57.927764Z",
     "start_time": "2020-05-19T15:12:57.729794Z"
    }
   },
   "outputs": [
    {
     "name": "stdout",
     "output_type": "stream",
     "text": [
      "总用量 3.4G\r\n",
      "-rw-rw-r-- 1 wcjb wcjb   73 5月  19 23:11 checkpoint\r\n",
      "-rw-rw-r-- 1 wcjb wcjb 5.0K 5月  19 11:41 ckpt-100.data-00000-of-00002\r\n",
      "-rw-rw-r-- 1 wcjb wcjb  21M 5月  19 11:41 ckpt-100.data-00001-of-00002\r\n",
      "-rw-rw-r-- 1 wcjb wcjb 3.0K 5月  19 11:41 ckpt-100.index\r\n",
      "-rw-rw-r-- 1 wcjb wcjb 5.0K 5月  19 11:41 ckpt-101.data-00000-of-00002\r\n",
      "-rw-rw-r-- 1 wcjb wcjb  21M 5月  19 11:41 ckpt-101.data-00001-of-00002\r\n",
      "-rw-rw-r-- 1 wcjb wcjb 3.0K 5月  19 11:41 ckpt-101.index\r\n",
      "-rw-rw-r-- 1 wcjb wcjb 5.0K 5月  19 11:41 ckpt-102.data-00000-of-00002\r\n",
      "-rw-rw-r-- 1 wcjb wcjb  21M 5月  19 11:41 ckpt-102.data-00001-of-00002\r\n",
      "-rw-rw-r-- 1 wcjb wcjb 3.0K 5月  19 11:41 ckpt-102.index\r\n",
      "-rw-rw-r-- 1 wcjb wcjb 5.0K 5月  19 11:41 ckpt-103.data-00000-of-00002\r\n",
      "-rw-rw-r-- 1 wcjb wcjb  21M 5月  19 11:41 ckpt-103.data-00001-of-00002\r\n",
      "-rw-rw-r-- 1 wcjb wcjb 3.0K 5月  19 11:41 ckpt-103.index\r\n",
      "-rw-rw-r-- 1 wcjb wcjb 5.0K 5月  19 11:41 ckpt-104.data-00000-of-00002\r\n",
      "-rw-rw-r-- 1 wcjb wcjb  21M 5月  19 11:41 ckpt-104.data-00001-of-00002\r\n",
      "-rw-rw-r-- 1 wcjb wcjb 3.0K 5月  19 11:41 ckpt-104.index\r\n",
      "-rw-rw-r-- 1 wcjb wcjb 5.0K 5月  19 11:41 ckpt-105.data-00000-of-00002\r\n",
      "-rw-rw-r-- 1 wcjb wcjb  21M 5月  19 11:41 ckpt-105.data-00001-of-00002\r\n",
      "-rw-rw-r-- 1 wcjb wcjb 3.0K 5月  19 11:41 ckpt-105.index\r\n",
      "-rw-rw-r-- 1 wcjb wcjb 5.0K 5月  19 11:42 ckpt-106.data-00000-of-00002\r\n",
      "-rw-rw-r-- 1 wcjb wcjb  21M 5月  19 11:42 ckpt-106.data-00001-of-00002\r\n",
      "-rw-rw-r-- 1 wcjb wcjb 3.0K 5月  19 11:42 ckpt-106.index\r\n",
      "-rw-rw-r-- 1 wcjb wcjb 5.0K 5月  19 11:42 ckpt-107.data-00000-of-00002\r\n",
      "-rw-rw-r-- 1 wcjb wcjb  21M 5月  19 11:42 ckpt-107.data-00001-of-00002\r\n",
      "-rw-rw-r-- 1 wcjb wcjb 3.0K 5月  19 11:42 ckpt-107.index\r\n",
      "-rw-rw-r-- 1 wcjb wcjb 5.0K 5月  19 11:42 ckpt-108.data-00000-of-00002\r\n",
      "-rw-rw-r-- 1 wcjb wcjb  21M 5月  19 11:42 ckpt-108.data-00001-of-00002\r\n",
      "-rw-rw-r-- 1 wcjb wcjb 3.0K 5月  19 11:42 ckpt-108.index\r\n",
      "-rw-rw-r-- 1 wcjb wcjb 5.0K 5月  19 11:42 ckpt-109.data-00000-of-00002\r\n",
      "-rw-rw-r-- 1 wcjb wcjb  21M 5月  19 11:42 ckpt-109.data-00001-of-00002\r\n",
      "-rw-rw-r-- 1 wcjb wcjb 3.0K 5月  19 11:42 ckpt-109.index\r\n",
      "-rw-rw-r-- 1 wcjb wcjb 5.0K 5月  15 07:21 ckpt-10.data-00000-of-00002\r\n",
      "-rw-rw-r-- 1 wcjb wcjb  21M 5月  15 07:21 ckpt-10.data-00001-of-00002\r\n",
      "-rw-rw-r-- 1 wcjb wcjb 3.0K 5月  15 07:21 ckpt-10.index\r\n",
      "-rw-rw-r-- 1 wcjb wcjb 5.0K 5月  19 11:42 ckpt-110.data-00000-of-00002\r\n",
      "-rw-rw-r-- 1 wcjb wcjb  21M 5月  19 11:42 ckpt-110.data-00001-of-00002\r\n",
      "-rw-rw-r-- 1 wcjb wcjb 3.0K 5月  19 11:42 ckpt-110.index\r\n",
      "-rw-rw-r-- 1 wcjb wcjb 5.0K 5月  19 11:43 ckpt-111.data-00000-of-00002\r\n",
      "-rw-rw-r-- 1 wcjb wcjb  21M 5月  19 11:43 ckpt-111.data-00001-of-00002\r\n",
      "-rw-rw-r-- 1 wcjb wcjb 3.0K 5月  19 11:43 ckpt-111.index\r\n",
      "-rw-rw-r-- 1 wcjb wcjb 5.0K 5月  19 11:43 ckpt-112.data-00000-of-00002\r\n",
      "-rw-rw-r-- 1 wcjb wcjb  21M 5月  19 11:43 ckpt-112.data-00001-of-00002\r\n",
      "-rw-rw-r-- 1 wcjb wcjb 3.0K 5月  19 11:43 ckpt-112.index\r\n",
      "-rw-rw-r-- 1 wcjb wcjb 5.0K 5月  19 11:43 ckpt-113.data-00000-of-00002\r\n",
      "-rw-rw-r-- 1 wcjb wcjb  21M 5月  19 11:43 ckpt-113.data-00001-of-00002\r\n",
      "-rw-rw-r-- 1 wcjb wcjb 3.0K 5月  19 11:43 ckpt-113.index\r\n",
      "-rw-rw-r-- 1 wcjb wcjb 5.0K 5月  19 11:43 ckpt-114.data-00000-of-00002\r\n",
      "-rw-rw-r-- 1 wcjb wcjb  21M 5月  19 11:43 ckpt-114.data-00001-of-00002\r\n",
      "-rw-rw-r-- 1 wcjb wcjb 3.0K 5月  19 11:43 ckpt-114.index\r\n",
      "-rw-rw-r-- 1 wcjb wcjb 5.0K 5月  19 11:43 ckpt-115.data-00000-of-00002\r\n",
      "-rw-rw-r-- 1 wcjb wcjb  21M 5月  19 11:43 ckpt-115.data-00001-of-00002\r\n",
      "-rw-rw-r-- 1 wcjb wcjb 3.0K 5月  19 11:43 ckpt-115.index\r\n",
      "-rw-rw-r-- 1 wcjb wcjb 5.0K 5月  19 11:44 ckpt-116.data-00000-of-00002\r\n",
      "-rw-rw-r-- 1 wcjb wcjb  21M 5月  19 11:44 ckpt-116.data-00001-of-00002\r\n",
      "-rw-rw-r-- 1 wcjb wcjb 3.0K 5月  19 11:44 ckpt-116.index\r\n",
      "-rw-rw-r-- 1 wcjb wcjb 5.0K 5月  19 11:44 ckpt-117.data-00000-of-00002\r\n",
      "-rw-rw-r-- 1 wcjb wcjb  21M 5月  19 11:44 ckpt-117.data-00001-of-00002\r\n",
      "-rw-rw-r-- 1 wcjb wcjb 3.0K 5月  19 11:44 ckpt-117.index\r\n",
      "-rw-rw-r-- 1 wcjb wcjb 5.0K 5月  19 11:44 ckpt-118.data-00000-of-00002\r\n",
      "-rw-rw-r-- 1 wcjb wcjb  21M 5月  19 11:44 ckpt-118.data-00001-of-00002\r\n",
      "-rw-rw-r-- 1 wcjb wcjb 3.0K 5月  19 11:44 ckpt-118.index\r\n",
      "-rw-rw-r-- 1 wcjb wcjb 5.0K 5月  19 11:44 ckpt-119.data-00000-of-00002\r\n",
      "-rw-rw-r-- 1 wcjb wcjb  21M 5月  19 11:44 ckpt-119.data-00001-of-00002\r\n",
      "-rw-rw-r-- 1 wcjb wcjb 3.0K 5月  19 11:44 ckpt-119.index\r\n",
      "-rw-rw-r-- 1 wcjb wcjb 5.0K 5月  15 09:04 ckpt-11.data-00000-of-00002\r\n",
      "-rw-rw-r-- 1 wcjb wcjb  21M 5月  15 09:04 ckpt-11.data-00001-of-00002\r\n",
      "-rw-rw-r-- 1 wcjb wcjb 3.0K 5月  15 09:04 ckpt-11.index\r\n",
      "-rw-rw-r-- 1 wcjb wcjb 5.0K 5月  19 11:44 ckpt-120.data-00000-of-00002\r\n",
      "-rw-rw-r-- 1 wcjb wcjb  21M 5月  19 11:44 ckpt-120.data-00001-of-00002\r\n",
      "-rw-rw-r-- 1 wcjb wcjb 3.0K 5月  19 11:44 ckpt-120.index\r\n",
      "-rw-rw-r-- 1 wcjb wcjb 5.0K 5月  19 11:44 ckpt-121.data-00000-of-00002\r\n",
      "-rw-rw-r-- 1 wcjb wcjb  21M 5月  19 11:44 ckpt-121.data-00001-of-00002\r\n",
      "-rw-rw-r-- 1 wcjb wcjb 3.0K 5月  19 11:44 ckpt-121.index\r\n",
      "-rw-rw-r-- 1 wcjb wcjb 5.0K 5月  19 11:45 ckpt-122.data-00000-of-00002\r\n",
      "-rw-rw-r-- 1 wcjb wcjb  21M 5月  19 11:45 ckpt-122.data-00001-of-00002\r\n",
      "-rw-rw-r-- 1 wcjb wcjb 3.0K 5月  19 11:45 ckpt-122.index\r\n",
      "-rw-rw-r-- 1 wcjb wcjb 5.0K 5月  19 11:45 ckpt-123.data-00000-of-00002\r\n",
      "-rw-rw-r-- 1 wcjb wcjb  21M 5月  19 11:45 ckpt-123.data-00001-of-00002\r\n",
      "-rw-rw-r-- 1 wcjb wcjb 3.0K 5月  19 11:45 ckpt-123.index\r\n",
      "-rw-rw-r-- 1 wcjb wcjb 5.0K 5月  19 11:45 ckpt-124.data-00000-of-00002\r\n",
      "-rw-rw-r-- 1 wcjb wcjb  21M 5月  19 11:45 ckpt-124.data-00001-of-00002\r\n",
      "-rw-rw-r-- 1 wcjb wcjb 3.0K 5月  19 11:45 ckpt-124.index\r\n",
      "-rw-rw-r-- 1 wcjb wcjb 5.0K 5月  19 11:45 ckpt-125.data-00000-of-00002\r\n",
      "-rw-rw-r-- 1 wcjb wcjb  21M 5月  19 11:45 ckpt-125.data-00001-of-00002\r\n",
      "-rw-rw-r-- 1 wcjb wcjb 3.0K 5月  19 11:45 ckpt-125.index\r\n",
      "-rw-rw-r-- 1 wcjb wcjb 5.0K 5月  19 11:45 ckpt-126.data-00000-of-00002\r\n",
      "-rw-rw-r-- 1 wcjb wcjb  21M 5月  19 11:45 ckpt-126.data-00001-of-00002\r\n",
      "-rw-rw-r-- 1 wcjb wcjb 3.0K 5月  19 11:45 ckpt-126.index\r\n",
      "-rw-rw-r-- 1 wcjb wcjb 5.0K 5月  19 11:46 ckpt-127.data-00000-of-00002\r\n",
      "-rw-rw-r-- 1 wcjb wcjb  21M 5月  19 11:46 ckpt-127.data-00001-of-00002\r\n",
      "-rw-rw-r-- 1 wcjb wcjb 3.0K 5月  19 11:46 ckpt-127.index\r\n",
      "-rw-rw-r-- 1 wcjb wcjb 5.0K 5月  19 11:46 ckpt-128.data-00000-of-00002\r\n",
      "-rw-rw-r-- 1 wcjb wcjb  21M 5月  19 11:46 ckpt-128.data-00001-of-00002\r\n",
      "-rw-rw-r-- 1 wcjb wcjb 3.0K 5月  19 11:46 ckpt-128.index\r\n",
      "-rw-rw-r-- 1 wcjb wcjb 5.0K 5月  19 11:46 ckpt-129.data-00000-of-00002\r\n",
      "-rw-rw-r-- 1 wcjb wcjb  21M 5月  19 11:46 ckpt-129.data-00001-of-00002\r\n",
      "-rw-rw-r-- 1 wcjb wcjb 3.0K 5月  19 11:46 ckpt-129.index\r\n",
      "-rw-rw-r-- 1 wcjb wcjb 5.0K 5月  15 09:08 ckpt-12.data-00000-of-00002\r\n",
      "-rw-rw-r-- 1 wcjb wcjb  21M 5月  15 09:08 ckpt-12.data-00001-of-00002\r\n",
      "-rw-rw-r-- 1 wcjb wcjb 3.0K 5月  15 09:08 ckpt-12.index\r\n",
      "-rw-rw-r-- 1 wcjb wcjb 5.0K 5月  19 11:46 ckpt-130.data-00000-of-00002\r\n",
      "-rw-rw-r-- 1 wcjb wcjb  21M 5月  19 11:46 ckpt-130.data-00001-of-00002\r\n",
      "-rw-rw-r-- 1 wcjb wcjb 3.0K 5月  19 11:46 ckpt-130.index\r\n",
      "-rw-rw-r-- 1 wcjb wcjb 5.0K 5月  19 11:46 ckpt-131.data-00000-of-00002\r\n",
      "-rw-rw-r-- 1 wcjb wcjb  21M 5月  19 11:46 ckpt-131.data-00001-of-00002\r\n",
      "-rw-rw-r-- 1 wcjb wcjb 3.0K 5月  19 11:46 ckpt-131.index\r\n",
      "-rw-rw-r-- 1 wcjb wcjb 5.0K 5月  19 11:46 ckpt-132.data-00000-of-00002\r\n",
      "-rw-rw-r-- 1 wcjb wcjb  21M 5月  19 11:46 ckpt-132.data-00001-of-00002\r\n",
      "-rw-rw-r-- 1 wcjb wcjb 3.0K 5月  19 11:46 ckpt-132.index\r\n",
      "-rw-rw-r-- 1 wcjb wcjb 5.0K 5月  19 11:47 ckpt-133.data-00000-of-00002\r\n",
      "-rw-rw-r-- 1 wcjb wcjb  21M 5月  19 11:47 ckpt-133.data-00001-of-00002\r\n",
      "-rw-rw-r-- 1 wcjb wcjb 3.0K 5月  19 11:47 ckpt-133.index\r\n",
      "-rw-rw-r-- 1 wcjb wcjb 5.0K 5月  19 11:47 ckpt-134.data-00000-of-00002\r\n",
      "-rw-rw-r-- 1 wcjb wcjb  21M 5月  19 11:47 ckpt-134.data-00001-of-00002\r\n",
      "-rw-rw-r-- 1 wcjb wcjb 3.0K 5月  19 11:47 ckpt-134.index\r\n",
      "-rw-rw-r-- 1 wcjb wcjb 5.0K 5月  19 11:47 ckpt-135.data-00000-of-00002\r\n",
      "-rw-rw-r-- 1 wcjb wcjb  21M 5月  19 11:47 ckpt-135.data-00001-of-00002\r\n",
      "-rw-rw-r-- 1 wcjb wcjb 3.0K 5月  19 11:47 ckpt-135.index\r\n",
      "-rw-rw-r-- 1 wcjb wcjb 5.0K 5月  19 11:47 ckpt-136.data-00000-of-00002\r\n",
      "-rw-rw-r-- 1 wcjb wcjb  21M 5月  19 11:47 ckpt-136.data-00001-of-00002\r\n",
      "-rw-rw-r-- 1 wcjb wcjb 3.0K 5月  19 11:47 ckpt-136.index\r\n",
      "-rw-rw-r-- 1 wcjb wcjb 5.0K 5月  19 11:47 ckpt-137.data-00000-of-00002\r\n",
      "-rw-rw-r-- 1 wcjb wcjb  21M 5月  19 11:47 ckpt-137.data-00001-of-00002\r\n",
      "-rw-rw-r-- 1 wcjb wcjb 3.0K 5月  19 11:47 ckpt-137.index\r\n",
      "-rw-rw-r-- 1 wcjb wcjb 5.0K 5月  19 11:48 ckpt-138.data-00000-of-00002\r\n",
      "-rw-rw-r-- 1 wcjb wcjb  21M 5月  19 11:48 ckpt-138.data-00001-of-00002\r\n",
      "-rw-rw-r-- 1 wcjb wcjb 3.0K 5月  19 11:48 ckpt-138.index\r\n",
      "-rw-rw-r-- 1 wcjb wcjb 5.0K 5月  19 11:48 ckpt-139.data-00000-of-00002\r\n",
      "-rw-rw-r-- 1 wcjb wcjb  21M 5月  19 11:48 ckpt-139.data-00001-of-00002\r\n",
      "-rw-rw-r-- 1 wcjb wcjb 3.0K 5月  19 11:48 ckpt-139.index\r\n",
      "-rw-rw-r-- 1 wcjb wcjb 5.0K 5月  15 09:15 ckpt-13.data-00000-of-00002\r\n",
      "-rw-rw-r-- 1 wcjb wcjb  21M 5月  15 09:15 ckpt-13.data-00001-of-00002\r\n",
      "-rw-rw-r-- 1 wcjb wcjb 3.0K 5月  15 09:15 ckpt-13.index\r\n",
      "-rw-rw-r-- 1 wcjb wcjb 5.0K 5月  19 11:48 ckpt-140.data-00000-of-00002\r\n",
      "-rw-rw-r-- 1 wcjb wcjb  21M 5月  19 11:48 ckpt-140.data-00001-of-00002\r\n",
      "-rw-rw-r-- 1 wcjb wcjb 3.0K 5月  19 11:48 ckpt-140.index\r\n",
      "-rw-rw-r-- 1 wcjb wcjb 5.0K 5月  19 11:48 ckpt-141.data-00000-of-00002\r\n",
      "-rw-rw-r-- 1 wcjb wcjb  21M 5月  19 11:48 ckpt-141.data-00001-of-00002\r\n",
      "-rw-rw-r-- 1 wcjb wcjb 3.0K 5月  19 11:48 ckpt-141.index\r\n",
      "-rw-rw-r-- 1 wcjb wcjb 5.0K 5月  19 11:48 ckpt-142.data-00000-of-00002\r\n",
      "-rw-rw-r-- 1 wcjb wcjb  21M 5月  19 11:48 ckpt-142.data-00001-of-00002\r\n",
      "-rw-rw-r-- 1 wcjb wcjb 3.0K 5月  19 11:48 ckpt-142.index\r\n",
      "-rw-rw-r-- 1 wcjb wcjb 5.0K 5月  19 11:49 ckpt-143.data-00000-of-00002\r\n",
      "-rw-rw-r-- 1 wcjb wcjb  21M 5月  19 11:49 ckpt-143.data-00001-of-00002\r\n",
      "-rw-rw-r-- 1 wcjb wcjb 3.0K 5月  19 11:49 ckpt-143.index\r\n",
      "-rw-rw-r-- 1 wcjb wcjb 5.0K 5月  19 11:49 ckpt-144.data-00000-of-00002\r\n",
      "-rw-rw-r-- 1 wcjb wcjb  21M 5月  19 11:49 ckpt-144.data-00001-of-00002\r\n",
      "-rw-rw-r-- 1 wcjb wcjb 3.0K 5月  19 11:49 ckpt-144.index\r\n",
      "-rw-rw-r-- 1 wcjb wcjb 5.0K 5月  19 11:49 ckpt-145.data-00000-of-00002\r\n",
      "-rw-rw-r-- 1 wcjb wcjb  21M 5月  19 11:49 ckpt-145.data-00001-of-00002\r\n",
      "-rw-rw-r-- 1 wcjb wcjb 3.0K 5月  19 11:49 ckpt-145.index\r\n",
      "-rw-rw-r-- 1 wcjb wcjb 5.0K 5月  19 11:49 ckpt-146.data-00000-of-00002\r\n",
      "-rw-rw-r-- 1 wcjb wcjb  21M 5月  19 11:49 ckpt-146.data-00001-of-00002\r\n",
      "-rw-rw-r-- 1 wcjb wcjb 3.0K 5月  19 11:49 ckpt-146.index\r\n",
      "-rw-rw-r-- 1 wcjb wcjb 5.0K 5月  19 11:49 ckpt-147.data-00000-of-00002\r\n",
      "-rw-rw-r-- 1 wcjb wcjb  21M 5月  19 11:49 ckpt-147.data-00001-of-00002\r\n",
      "-rw-rw-r-- 1 wcjb wcjb 3.0K 5月  19 11:49 ckpt-147.index\r\n",
      "-rw-rw-r-- 1 wcjb wcjb 5.0K 5月  19 11:49 ckpt-148.data-00000-of-00002\r\n",
      "-rw-rw-r-- 1 wcjb wcjb  21M 5月  19 11:49 ckpt-148.data-00001-of-00002\r\n",
      "-rw-rw-r-- 1 wcjb wcjb 3.0K 5月  19 11:49 ckpt-148.index\r\n",
      "-rw-rw-r-- 1 wcjb wcjb 5.0K 5月  19 11:50 ckpt-149.data-00000-of-00002\r\n",
      "-rw-rw-r-- 1 wcjb wcjb  21M 5月  19 11:50 ckpt-149.data-00001-of-00002\r\n",
      "-rw-rw-r-- 1 wcjb wcjb 3.0K 5月  19 11:50 ckpt-149.index\r\n",
      "-rw-rw-r-- 1 wcjb wcjb 5.0K 5月  15 09:17 ckpt-14.data-00000-of-00002\r\n",
      "-rw-rw-r-- 1 wcjb wcjb  21M 5月  15 09:17 ckpt-14.data-00001-of-00002\r\n",
      "-rw-rw-r-- 1 wcjb wcjb 3.0K 5月  15 09:17 ckpt-14.index\r\n",
      "-rw-rw-r-- 1 wcjb wcjb 5.0K 5月  19 11:50 ckpt-150.data-00000-of-00002\r\n",
      "-rw-rw-r-- 1 wcjb wcjb  21M 5月  19 11:50 ckpt-150.data-00001-of-00002\r\n",
      "-rw-rw-r-- 1 wcjb wcjb 3.0K 5月  19 11:50 ckpt-150.index\r\n",
      "-rw-rw-r-- 1 wcjb wcjb 5.0K 5月  19 11:50 ckpt-151.data-00000-of-00002\r\n",
      "-rw-rw-r-- 1 wcjb wcjb  21M 5月  19 11:50 ckpt-151.data-00001-of-00002\r\n",
      "-rw-rw-r-- 1 wcjb wcjb 3.0K 5月  19 11:50 ckpt-151.index\r\n",
      "-rw-rw-r-- 1 wcjb wcjb 5.0K 5月  19 11:50 ckpt-152.data-00000-of-00002\r\n",
      "-rw-rw-r-- 1 wcjb wcjb  21M 5月  19 11:50 ckpt-152.data-00001-of-00002\r\n",
      "-rw-rw-r-- 1 wcjb wcjb 3.0K 5月  19 11:50 ckpt-152.index\r\n",
      "-rw-rw-r-- 1 wcjb wcjb 5.0K 5月  19 11:50 ckpt-153.data-00000-of-00002\r\n",
      "-rw-rw-r-- 1 wcjb wcjb  21M 5月  19 11:50 ckpt-153.data-00001-of-00002\r\n",
      "-rw-rw-r-- 1 wcjb wcjb 3.0K 5月  19 11:50 ckpt-153.index\r\n",
      "-rw-rw-r-- 1 wcjb wcjb 5.0K 5月  19 11:51 ckpt-154.data-00000-of-00002\r\n",
      "-rw-rw-r-- 1 wcjb wcjb  21M 5月  19 11:51 ckpt-154.data-00001-of-00002\r\n",
      "-rw-rw-r-- 1 wcjb wcjb 3.0K 5月  19 11:51 ckpt-154.index\r\n",
      "-rw-rw-r-- 1 wcjb wcjb 5.0K 5月  19 11:51 ckpt-155.data-00000-of-00002\r\n",
      "-rw-rw-r-- 1 wcjb wcjb  21M 5月  19 11:51 ckpt-155.data-00001-of-00002\r\n",
      "-rw-rw-r-- 1 wcjb wcjb 3.0K 5月  19 11:51 ckpt-155.index\r\n",
      "-rw-rw-r-- 1 wcjb wcjb 5.0K 5月  19 11:51 ckpt-156.data-00000-of-00002\r\n",
      "-rw-rw-r-- 1 wcjb wcjb  21M 5月  19 11:51 ckpt-156.data-00001-of-00002\r\n",
      "-rw-rw-r-- 1 wcjb wcjb 3.0K 5月  19 11:51 ckpt-156.index\r\n",
      "-rw-rw-r-- 1 wcjb wcjb 5.0K 5月  19 11:51 ckpt-157.data-00000-of-00002\r\n",
      "-rw-rw-r-- 1 wcjb wcjb  21M 5月  19 11:51 ckpt-157.data-00001-of-00002\r\n",
      "-rw-rw-r-- 1 wcjb wcjb 3.0K 5月  19 11:51 ckpt-157.index\r\n",
      "-rw-rw-r-- 1 wcjb wcjb 5.0K 5月  19 11:51 ckpt-158.data-00000-of-00002\r\n",
      "-rw-rw-r-- 1 wcjb wcjb  21M 5月  19 11:51 ckpt-158.data-00001-of-00002\r\n",
      "-rw-rw-r-- 1 wcjb wcjb 3.0K 5月  19 11:51 ckpt-158.index\r\n",
      "-rw-rw-r-- 1 wcjb wcjb 5.0K 5月  19 11:52 ckpt-159.data-00000-of-00002\r\n",
      "-rw-rw-r-- 1 wcjb wcjb  21M 5月  19 11:52 ckpt-159.data-00001-of-00002\r\n",
      "-rw-rw-r-- 1 wcjb wcjb 3.0K 5月  19 11:52 ckpt-159.index\r\n",
      "-rw-rw-r-- 1 wcjb wcjb  21M 5月  15 09:21 ckpt-15.data-00000-of-00001\r\n",
      "-rw-rw-r-- 1 wcjb wcjb 2.9K 5月  15 09:21 ckpt-15.index\r\n",
      "-rw-rw-r-- 1 wcjb wcjb 5.0K 5月  19 11:52 ckpt-160.data-00000-of-00002\r\n",
      "-rw-rw-r-- 1 wcjb wcjb  21M 5月  19 11:52 ckpt-160.data-00001-of-00002\r\n",
      "-rw-rw-r-- 1 wcjb wcjb 3.0K 5月  19 11:52 ckpt-160.index\r\n",
      "-rw-rw-r-- 1 wcjb wcjb 5.0K 5月  19 11:52 ckpt-161.data-00000-of-00002\r\n",
      "-rw-rw-r-- 1 wcjb wcjb  21M 5月  19 11:52 ckpt-161.data-00001-of-00002\r\n",
      "-rw-rw-r-- 1 wcjb wcjb 3.0K 5月  19 11:52 ckpt-161.index\r\n",
      "-rw-rw-r-- 1 wcjb wcjb 5.0K 5月  19 11:52 ckpt-162.data-00000-of-00002\r\n",
      "-rw-rw-r-- 1 wcjb wcjb  21M 5月  19 11:52 ckpt-162.data-00001-of-00002\r\n",
      "-rw-rw-r-- 1 wcjb wcjb 3.0K 5月  19 11:52 ckpt-162.index\r\n",
      "-rw-rw-r-- 1 wcjb wcjb 5.0K 5月  19 11:52 ckpt-163.data-00000-of-00002\r\n",
      "-rw-rw-r-- 1 wcjb wcjb  21M 5月  19 11:52 ckpt-163.data-00001-of-00002\r\n",
      "-rw-rw-r-- 1 wcjb wcjb 3.0K 5月  19 11:52 ckpt-163.index\r\n",
      "-rw-rw-r-- 1 wcjb wcjb 5.0K 5月  19 11:52 ckpt-164.data-00000-of-00002\r\n",
      "-rw-rw-r-- 1 wcjb wcjb  21M 5月  19 11:52 ckpt-164.data-00001-of-00002\r\n",
      "-rw-rw-r-- 1 wcjb wcjb 3.0K 5月  19 11:52 ckpt-164.index\r\n",
      "-rw-rw-r-- 1 wcjb wcjb 5.0K 5月  19 22:29 ckpt-165.data-00000-of-00002\r\n",
      "-rw-rw-r-- 1 wcjb wcjb  21M 5月  19 22:29 ckpt-165.data-00001-of-00002\r\n",
      "-rw-rw-r-- 1 wcjb wcjb 3.0K 5月  19 22:29 ckpt-165.index\r\n",
      "-rw-rw-r-- 1 wcjb wcjb 5.0K 5月  19 23:11 ckpt-166.data-00000-of-00002\r\n",
      "-rw-rw-r-- 1 wcjb wcjb  21M 5月  19 23:11 ckpt-166.data-00001-of-00002\r\n",
      "-rw-rw-r-- 1 wcjb wcjb 3.0K 5月  19 23:11 ckpt-166.index\r\n",
      "-rw-rw-r-- 1 wcjb wcjb 5.0K 5月  15 09:23 ckpt-16.data-00000-of-00002\r\n",
      "-rw-rw-r-- 1 wcjb wcjb  21M 5月  15 09:23 ckpt-16.data-00001-of-00002\r\n",
      "-rw-rw-r-- 1 wcjb wcjb 3.0K 5月  15 09:23 ckpt-16.index\r\n",
      "-rw-rw-r-- 1 wcjb wcjb 5.0K 5月  15 09:25 ckpt-17.data-00000-of-00002\r\n",
      "-rw-rw-r-- 1 wcjb wcjb  21M 5月  15 09:25 ckpt-17.data-00001-of-00002\r\n",
      "-rw-rw-r-- 1 wcjb wcjb 3.0K 5月  15 09:25 ckpt-17.index\r\n",
      "-rw-rw-r-- 1 wcjb wcjb 5.0K 5月  15 09:26 ckpt-18.data-00000-of-00002\r\n",
      "-rw-rw-r-- 1 wcjb wcjb  21M 5月  15 09:26 ckpt-18.data-00001-of-00002\r\n",
      "-rw-rw-r-- 1 wcjb wcjb 3.0K 5月  15 09:26 ckpt-18.index\r\n",
      "-rw-rw-r-- 1 wcjb wcjb 5.0K 5月  15 09:50 ckpt-19.data-00000-of-00002\r\n",
      "-rw-rw-r-- 1 wcjb wcjb  21M 5月  15 09:50 ckpt-19.data-00001-of-00002\r\n",
      "-rw-rw-r-- 1 wcjb wcjb 3.0K 5月  15 09:50 ckpt-19.index\r\n",
      "-rw-rw-r-- 1 wcjb wcjb 5.5K 5月  15 00:18 ckpt-1.data-00000-of-00002\r\n",
      "-rw-rw-r-- 1 wcjb wcjb  21M 5月  15 00:18 ckpt-1.data-00001-of-00002\r\n",
      "-rw-rw-r-- 1 wcjb wcjb 3.0K 5月  15 00:18 ckpt-1.index\r\n",
      "-rw-rw-r-- 1 wcjb wcjb 5.0K 5月  15 09:51 ckpt-20.data-00000-of-00002\r\n",
      "-rw-rw-r-- 1 wcjb wcjb  21M 5月  15 09:51 ckpt-20.data-00001-of-00002\r\n",
      "-rw-rw-r-- 1 wcjb wcjb 3.0K 5月  15 09:51 ckpt-20.index\r\n",
      "-rw-rw-r-- 1 wcjb wcjb 5.0K 5月  15 09:51 ckpt-21.data-00000-of-00002\r\n",
      "-rw-rw-r-- 1 wcjb wcjb  21M 5月  15 09:51 ckpt-21.data-00001-of-00002\r\n",
      "-rw-rw-r-- 1 wcjb wcjb 3.0K 5月  15 09:51 ckpt-21.index\r\n",
      "-rw-rw-r-- 1 wcjb wcjb 5.0K 5月  15 09:51 ckpt-22.data-00000-of-00002\r\n",
      "-rw-rw-r-- 1 wcjb wcjb  21M 5月  15 09:51 ckpt-22.data-00001-of-00002\r\n",
      "-rw-rw-r-- 1 wcjb wcjb 3.0K 5月  15 09:51 ckpt-22.index\r\n",
      "-rw-rw-r-- 1 wcjb wcjb 5.0K 5月  15 09:51 ckpt-23.data-00000-of-00002\r\n",
      "-rw-rw-r-- 1 wcjb wcjb  21M 5月  15 09:51 ckpt-23.data-00001-of-00002\r\n",
      "-rw-rw-r-- 1 wcjb wcjb 3.0K 5月  15 09:51 ckpt-23.index\r\n",
      "-rw-rw-r-- 1 wcjb wcjb 5.0K 5月  15 09:51 ckpt-24.data-00000-of-00002\r\n",
      "-rw-rw-r-- 1 wcjb wcjb  21M 5月  15 09:51 ckpt-24.data-00001-of-00002\r\n",
      "-rw-rw-r-- 1 wcjb wcjb 3.0K 5月  15 09:51 ckpt-24.index\r\n",
      "-rw-rw-r-- 1 wcjb wcjb 5.0K 5月  15 10:15 ckpt-25.data-00000-of-00002\r\n",
      "-rw-rw-r-- 1 wcjb wcjb  21M 5月  15 10:15 ckpt-25.data-00001-of-00002\r\n",
      "-rw-rw-r-- 1 wcjb wcjb 3.0K 5月  15 10:15 ckpt-25.index\r\n",
      "-rw-rw-r-- 1 wcjb wcjb 5.0K 5月  15 10:15 ckpt-26.data-00000-of-00002\r\n",
      "-rw-rw-r-- 1 wcjb wcjb  21M 5月  15 10:15 ckpt-26.data-00001-of-00002\r\n",
      "-rw-rw-r-- 1 wcjb wcjb 3.0K 5月  15 10:15 ckpt-26.index\r\n",
      "-rw-rw-r-- 1 wcjb wcjb 5.0K 5月  15 10:15 ckpt-27.data-00000-of-00002\r\n",
      "-rw-rw-r-- 1 wcjb wcjb  21M 5月  15 10:15 ckpt-27.data-00001-of-00002\r\n",
      "-rw-rw-r-- 1 wcjb wcjb 3.0K 5月  15 10:15 ckpt-27.index\r\n",
      "-rw-rw-r-- 1 wcjb wcjb 5.0K 5月  15 10:15 ckpt-28.data-00000-of-00002\r\n",
      "-rw-rw-r-- 1 wcjb wcjb  21M 5月  15 10:15 ckpt-28.data-00001-of-00002\r\n",
      "-rw-rw-r-- 1 wcjb wcjb 3.0K 5月  15 10:15 ckpt-28.index\r\n",
      "-rw-rw-r-- 1 wcjb wcjb 5.0K 5月  15 10:16 ckpt-29.data-00000-of-00002\r\n",
      "-rw-rw-r-- 1 wcjb wcjb  21M 5月  15 10:16 ckpt-29.data-00001-of-00002\r\n",
      "-rw-rw-r-- 1 wcjb wcjb 3.0K 5月  15 10:16 ckpt-29.index\r\n",
      "-rw-rw-r-- 1 wcjb wcjb 5.0K 5月  15 06:51 ckpt-2.data-00000-of-00002\r\n",
      "-rw-rw-r-- 1 wcjb wcjb  21M 5月  15 06:51 ckpt-2.data-00001-of-00002\r\n",
      "-rw-rw-r-- 1 wcjb wcjb 3.0K 5月  15 06:51 ckpt-2.index\r\n",
      "-rw-rw-r-- 1 wcjb wcjb 5.0K 5月  15 10:16 ckpt-30.data-00000-of-00002\r\n",
      "-rw-rw-r-- 1 wcjb wcjb  21M 5月  15 10:16 ckpt-30.data-00001-of-00002\r\n",
      "-rw-rw-r-- 1 wcjb wcjb 3.0K 5月  15 10:16 ckpt-30.index\r\n",
      "-rw-rw-r-- 1 wcjb wcjb 5.0K 5月  15 10:16 ckpt-31.data-00000-of-00002\r\n",
      "-rw-rw-r-- 1 wcjb wcjb  21M 5月  15 10:16 ckpt-31.data-00001-of-00002\r\n",
      "-rw-rw-r-- 1 wcjb wcjb 3.0K 5月  15 10:16 ckpt-31.index\r\n",
      "-rw-rw-r-- 1 wcjb wcjb 5.0K 5月  15 10:16 ckpt-32.data-00000-of-00002\r\n",
      "-rw-rw-r-- 1 wcjb wcjb  21M 5月  15 10:16 ckpt-32.data-00001-of-00002\r\n",
      "-rw-rw-r-- 1 wcjb wcjb 3.0K 5月  15 10:16 ckpt-32.index\r\n",
      "-rw-rw-r-- 1 wcjb wcjb 5.0K 5月  15 10:16 ckpt-33.data-00000-of-00002\r\n",
      "-rw-rw-r-- 1 wcjb wcjb  21M 5月  15 10:16 ckpt-33.data-00001-of-00002\r\n",
      "-rw-rw-r-- 1 wcjb wcjb 3.0K 5月  15 10:16 ckpt-33.index\r\n",
      "-rw-rw-r-- 1 wcjb wcjb 5.0K 5月  15 10:17 ckpt-34.data-00000-of-00002\r\n",
      "-rw-rw-r-- 1 wcjb wcjb  21M 5月  15 10:17 ckpt-34.data-00001-of-00002\r\n",
      "-rw-rw-r-- 1 wcjb wcjb 3.0K 5月  15 10:17 ckpt-34.index\r\n",
      "-rw-rw-r-- 1 wcjb wcjb 5.0K 5月  15 10:30 ckpt-35.data-00000-of-00002\r\n",
      "-rw-rw-r-- 1 wcjb wcjb  21M 5月  15 10:30 ckpt-35.data-00001-of-00002\r\n",
      "-rw-rw-r-- 1 wcjb wcjb 3.0K 5月  15 10:30 ckpt-35.index\r\n",
      "-rw-rw-r-- 1 wcjb wcjb 5.0K 5月  15 10:30 ckpt-36.data-00000-of-00002\r\n",
      "-rw-rw-r-- 1 wcjb wcjb  21M 5月  15 10:30 ckpt-36.data-00001-of-00002\r\n",
      "-rw-rw-r-- 1 wcjb wcjb 3.0K 5月  15 10:30 ckpt-36.index\r\n",
      "-rw-rw-r-- 1 wcjb wcjb 5.0K 5月  15 10:30 ckpt-37.data-00000-of-00002\r\n",
      "-rw-rw-r-- 1 wcjb wcjb  21M 5月  15 10:30 ckpt-37.data-00001-of-00002\r\n",
      "-rw-rw-r-- 1 wcjb wcjb 3.0K 5月  15 10:30 ckpt-37.index\r\n",
      "-rw-rw-r-- 1 wcjb wcjb 5.0K 5月  15 10:30 ckpt-38.data-00000-of-00002\r\n",
      "-rw-rw-r-- 1 wcjb wcjb  21M 5月  15 10:30 ckpt-38.data-00001-of-00002\r\n",
      "-rw-rw-r-- 1 wcjb wcjb 3.0K 5月  15 10:30 ckpt-38.index\r\n",
      "-rw-rw-r-- 1 wcjb wcjb 5.0K 5月  15 10:30 ckpt-39.data-00000-of-00002\r\n",
      "-rw-rw-r-- 1 wcjb wcjb  21M 5月  15 10:30 ckpt-39.data-00001-of-00002\r\n",
      "-rw-rw-r-- 1 wcjb wcjb 3.0K 5月  15 10:30 ckpt-39.index\r\n",
      "-rw-rw-r-- 1 wcjb wcjb 5.0K 5月  15 06:52 ckpt-3.data-00000-of-00002\r\n",
      "-rw-rw-r-- 1 wcjb wcjb  21M 5月  15 06:52 ckpt-3.data-00001-of-00002\r\n",
      "-rw-rw-r-- 1 wcjb wcjb 3.0K 5月  15 06:52 ckpt-3.index\r\n",
      "-rw-rw-r-- 1 wcjb wcjb 5.0K 5月  15 10:31 ckpt-40.data-00000-of-00002\r\n",
      "-rw-rw-r-- 1 wcjb wcjb  21M 5月  15 10:31 ckpt-40.data-00001-of-00002\r\n",
      "-rw-rw-r-- 1 wcjb wcjb 3.0K 5月  15 10:31 ckpt-40.index\r\n",
      "-rw-rw-r-- 1 wcjb wcjb 5.0K 5月  15 10:31 ckpt-41.data-00000-of-00002\r\n",
      "-rw-rw-r-- 1 wcjb wcjb  21M 5月  15 10:31 ckpt-41.data-00001-of-00002\r\n",
      "-rw-rw-r-- 1 wcjb wcjb 3.0K 5月  15 10:31 ckpt-41.index\r\n",
      "-rw-rw-r-- 1 wcjb wcjb 5.0K 5月  15 10:31 ckpt-42.data-00000-of-00002\r\n",
      "-rw-rw-r-- 1 wcjb wcjb  21M 5月  15 10:31 ckpt-42.data-00001-of-00002\r\n",
      "-rw-rw-r-- 1 wcjb wcjb 3.0K 5月  15 10:31 ckpt-42.index\r\n",
      "-rw-rw-r-- 1 wcjb wcjb 5.0K 5月  15 10:31 ckpt-43.data-00000-of-00002\r\n",
      "-rw-rw-r-- 1 wcjb wcjb  21M 5月  15 10:31 ckpt-43.data-00001-of-00002\r\n",
      "-rw-rw-r-- 1 wcjb wcjb 3.0K 5月  15 10:31 ckpt-43.index\r\n",
      "-rw-rw-r-- 1 wcjb wcjb 5.0K 5月  15 10:31 ckpt-44.data-00000-of-00002\r\n",
      "-rw-rw-r-- 1 wcjb wcjb  21M 5月  15 10:31 ckpt-44.data-00001-of-00002\r\n",
      "-rw-rw-r-- 1 wcjb wcjb 3.0K 5月  15 10:31 ckpt-44.index\r\n",
      "-rw-rw-r-- 1 wcjb wcjb 5.0K 5月  15 14:42 ckpt-45.data-00000-of-00002\r\n",
      "-rw-rw-r-- 1 wcjb wcjb  21M 5月  15 14:42 ckpt-45.data-00001-of-00002\r\n",
      "-rw-rw-r-- 1 wcjb wcjb 3.0K 5月  15 14:42 ckpt-45.index\r\n",
      "-rw-rw-r-- 1 wcjb wcjb 5.0K 5月  15 14:42 ckpt-46.data-00000-of-00002\r\n",
      "-rw-rw-r-- 1 wcjb wcjb  21M 5月  15 14:42 ckpt-46.data-00001-of-00002\r\n",
      "-rw-rw-r-- 1 wcjb wcjb 3.0K 5月  15 14:42 ckpt-46.index\r\n",
      "-rw-rw-r-- 1 wcjb wcjb 5.0K 5月  15 14:42 ckpt-47.data-00000-of-00002\r\n",
      "-rw-rw-r-- 1 wcjb wcjb  21M 5月  15 14:42 ckpt-47.data-00001-of-00002\r\n",
      "-rw-rw-r-- 1 wcjb wcjb 3.0K 5月  15 14:42 ckpt-47.index\r\n",
      "-rw-rw-r-- 1 wcjb wcjb 5.0K 5月  15 14:43 ckpt-48.data-00000-of-00002\r\n",
      "-rw-rw-r-- 1 wcjb wcjb  21M 5月  15 14:43 ckpt-48.data-00001-of-00002\r\n",
      "-rw-rw-r-- 1 wcjb wcjb 3.0K 5月  15 14:43 ckpt-48.index\r\n",
      "-rw-rw-r-- 1 wcjb wcjb 5.0K 5月  15 14:43 ckpt-49.data-00000-of-00002\r\n",
      "-rw-rw-r-- 1 wcjb wcjb  21M 5月  15 14:43 ckpt-49.data-00001-of-00002\r\n",
      "-rw-rw-r-- 1 wcjb wcjb 3.0K 5月  15 14:43 ckpt-49.index\r\n",
      "-rw-rw-r-- 1 wcjb wcjb 5.0K 5月  15 06:57 ckpt-4.data-00000-of-00002\r\n",
      "-rw-rw-r-- 1 wcjb wcjb  21M 5月  15 06:57 ckpt-4.data-00001-of-00002\r\n",
      "-rw-rw-r-- 1 wcjb wcjb 3.0K 5月  15 06:57 ckpt-4.index\r\n",
      "-rw-rw-r-- 1 wcjb wcjb 5.0K 5月  15 14:43 ckpt-50.data-00000-of-00002\r\n",
      "-rw-rw-r-- 1 wcjb wcjb  21M 5月  15 14:43 ckpt-50.data-00001-of-00002\r\n",
      "-rw-rw-r-- 1 wcjb wcjb 3.0K 5月  15 14:43 ckpt-50.index\r\n",
      "-rw-rw-r-- 1 wcjb wcjb 5.0K 5月  15 14:43 ckpt-51.data-00000-of-00002\r\n",
      "-rw-rw-r-- 1 wcjb wcjb  21M 5月  15 14:43 ckpt-51.data-00001-of-00002\r\n",
      "-rw-rw-r-- 1 wcjb wcjb 3.0K 5月  15 14:43 ckpt-51.index\r\n",
      "-rw-rw-r-- 1 wcjb wcjb 5.0K 5月  15 14:43 ckpt-52.data-00000-of-00002\r\n",
      "-rw-rw-r-- 1 wcjb wcjb  21M 5月  15 14:43 ckpt-52.data-00001-of-00002\r\n",
      "-rw-rw-r-- 1 wcjb wcjb 3.0K 5月  15 14:43 ckpt-52.index\r\n",
      "-rw-rw-r-- 1 wcjb wcjb 5.0K 5月  15 14:44 ckpt-53.data-00000-of-00002\r\n",
      "-rw-rw-r-- 1 wcjb wcjb  21M 5月  15 14:44 ckpt-53.data-00001-of-00002\r\n",
      "-rw-rw-r-- 1 wcjb wcjb 3.0K 5月  15 14:44 ckpt-53.index\r\n",
      "-rw-rw-r-- 1 wcjb wcjb 5.0K 5月  15 14:44 ckpt-54.data-00000-of-00002\r\n",
      "-rw-rw-r-- 1 wcjb wcjb  21M 5月  15 14:44 ckpt-54.data-00001-of-00002\r\n",
      "-rw-rw-r-- 1 wcjb wcjb 3.0K 5月  15 14:44 ckpt-54.index\r\n",
      "-rw-rw-r-- 1 wcjb wcjb 5.0K 5月  18 23:01 ckpt-55.data-00000-of-00002\r\n",
      "-rw-rw-r-- 1 wcjb wcjb  21M 5月  18 23:01 ckpt-55.data-00001-of-00002\r\n",
      "-rw-rw-r-- 1 wcjb wcjb 3.0K 5月  18 23:01 ckpt-55.index\r\n",
      "-rw-rw-r-- 1 wcjb wcjb 5.0K 5月  18 23:01 ckpt-56.data-00000-of-00002\r\n",
      "-rw-rw-r-- 1 wcjb wcjb  21M 5月  18 23:01 ckpt-56.data-00001-of-00002\r\n",
      "-rw-rw-r-- 1 wcjb wcjb 3.0K 5月  18 23:01 ckpt-56.index\r\n",
      "-rw-rw-r-- 1 wcjb wcjb 5.0K 5月  18 23:01 ckpt-57.data-00000-of-00002\r\n",
      "-rw-rw-r-- 1 wcjb wcjb  21M 5月  18 23:01 ckpt-57.data-00001-of-00002\r\n",
      "-rw-rw-r-- 1 wcjb wcjb 3.0K 5月  18 23:01 ckpt-57.index\r\n",
      "-rw-rw-r-- 1 wcjb wcjb 5.0K 5月  18 23:01 ckpt-58.data-00000-of-00002\r\n",
      "-rw-rw-r-- 1 wcjb wcjb  21M 5月  18 23:01 ckpt-58.data-00001-of-00002\r\n",
      "-rw-rw-r-- 1 wcjb wcjb 3.0K 5月  18 23:01 ckpt-58.index\r\n",
      "-rw-rw-r-- 1 wcjb wcjb 5.0K 5月  18 23:01 ckpt-59.data-00000-of-00002\r\n",
      "-rw-rw-r-- 1 wcjb wcjb  21M 5月  18 23:01 ckpt-59.data-00001-of-00002\r\n",
      "-rw-rw-r-- 1 wcjb wcjb 3.0K 5月  18 23:01 ckpt-59.index\r\n",
      "-rw-rw-r-- 1 wcjb wcjb 5.0K 5月  15 07:03 ckpt-5.data-00000-of-00002\r\n",
      "-rw-rw-r-- 1 wcjb wcjb  21M 5月  15 07:03 ckpt-5.data-00001-of-00002\r\n",
      "-rw-rw-r-- 1 wcjb wcjb 3.0K 5月  15 07:03 ckpt-5.index\r\n",
      "-rw-rw-r-- 1 wcjb wcjb 5.0K 5月  18 23:02 ckpt-60.data-00000-of-00002\r\n",
      "-rw-rw-r-- 1 wcjb wcjb  21M 5月  18 23:02 ckpt-60.data-00001-of-00002\r\n",
      "-rw-rw-r-- 1 wcjb wcjb 3.0K 5月  18 23:02 ckpt-60.index\r\n",
      "-rw-rw-r-- 1 wcjb wcjb 5.0K 5月  18 23:02 ckpt-61.data-00000-of-00002\r\n",
      "-rw-rw-r-- 1 wcjb wcjb  21M 5月  18 23:02 ckpt-61.data-00001-of-00002\r\n",
      "-rw-rw-r-- 1 wcjb wcjb 3.0K 5月  18 23:02 ckpt-61.index\r\n",
      "-rw-rw-r-- 1 wcjb wcjb 5.0K 5月  18 23:02 ckpt-62.data-00000-of-00002\r\n",
      "-rw-rw-r-- 1 wcjb wcjb  21M 5月  18 23:02 ckpt-62.data-00001-of-00002\r\n",
      "-rw-rw-r-- 1 wcjb wcjb 3.0K 5月  18 23:02 ckpt-62.index\r\n",
      "-rw-rw-r-- 1 wcjb wcjb 5.0K 5月  18 23:02 ckpt-63.data-00000-of-00002\r\n",
      "-rw-rw-r-- 1 wcjb wcjb  21M 5月  18 23:02 ckpt-63.data-00001-of-00002\r\n",
      "-rw-rw-r-- 1 wcjb wcjb 3.0K 5月  18 23:02 ckpt-63.index\r\n",
      "-rw-rw-r-- 1 wcjb wcjb 5.0K 5月  18 23:02 ckpt-64.data-00000-of-00002\r\n",
      "-rw-rw-r-- 1 wcjb wcjb  21M 5月  18 23:02 ckpt-64.data-00001-of-00002\r\n",
      "-rw-rw-r-- 1 wcjb wcjb 3.0K 5月  18 23:02 ckpt-64.index\r\n",
      "-rw-rw-r-- 1 wcjb wcjb 5.0K 5月  19 11:34 ckpt-65.data-00000-of-00002\r\n",
      "-rw-rw-r-- 1 wcjb wcjb  21M 5月  19 11:34 ckpt-65.data-00001-of-00002\r\n",
      "-rw-rw-r-- 1 wcjb wcjb 3.0K 5月  19 11:34 ckpt-65.index\r\n",
      "-rw-rw-r-- 1 wcjb wcjb 5.0K 5月  19 11:34 ckpt-66.data-00000-of-00002\r\n",
      "-rw-rw-r-- 1 wcjb wcjb  21M 5月  19 11:34 ckpt-66.data-00001-of-00002\r\n",
      "-rw-rw-r-- 1 wcjb wcjb 3.0K 5月  19 11:34 ckpt-66.index\r\n",
      "-rw-rw-r-- 1 wcjb wcjb 5.0K 5月  19 11:34 ckpt-67.data-00000-of-00002\r\n",
      "-rw-rw-r-- 1 wcjb wcjb  21M 5月  19 11:34 ckpt-67.data-00001-of-00002\r\n",
      "-rw-rw-r-- 1 wcjb wcjb 3.0K 5月  19 11:34 ckpt-67.index\r\n",
      "-rw-rw-r-- 1 wcjb wcjb 5.0K 5月  19 11:35 ckpt-68.data-00000-of-00002\r\n",
      "-rw-rw-r-- 1 wcjb wcjb  21M 5月  19 11:35 ckpt-68.data-00001-of-00002\r\n",
      "-rw-rw-r-- 1 wcjb wcjb 3.0K 5月  19 11:35 ckpt-68.index\r\n",
      "-rw-rw-r-- 1 wcjb wcjb 5.0K 5月  19 11:35 ckpt-69.data-00000-of-00002\r\n",
      "-rw-rw-r-- 1 wcjb wcjb  21M 5月  19 11:35 ckpt-69.data-00001-of-00002\r\n",
      "-rw-rw-r-- 1 wcjb wcjb 3.0K 5月  19 11:35 ckpt-69.index\r\n",
      "-rw-rw-r-- 1 wcjb wcjb 5.0K 5月  15 07:05 ckpt-6.data-00000-of-00002\r\n",
      "-rw-rw-r-- 1 wcjb wcjb  21M 5月  15 07:05 ckpt-6.data-00001-of-00002\r\n",
      "-rw-rw-r-- 1 wcjb wcjb 3.0K 5月  15 07:05 ckpt-6.index\r\n",
      "-rw-rw-r-- 1 wcjb wcjb 5.0K 5月  19 11:35 ckpt-70.data-00000-of-00002\r\n",
      "-rw-rw-r-- 1 wcjb wcjb  21M 5月  19 11:35 ckpt-70.data-00001-of-00002\r\n",
      "-rw-rw-r-- 1 wcjb wcjb 3.0K 5月  19 11:35 ckpt-70.index\r\n",
      "-rw-rw-r-- 1 wcjb wcjb 5.0K 5月  19 11:35 ckpt-71.data-00000-of-00002\r\n",
      "-rw-rw-r-- 1 wcjb wcjb  21M 5月  19 11:35 ckpt-71.data-00001-of-00002\r\n",
      "-rw-rw-r-- 1 wcjb wcjb 3.0K 5月  19 11:35 ckpt-71.index\r\n",
      "-rw-rw-r-- 1 wcjb wcjb 5.0K 5月  19 11:35 ckpt-72.data-00000-of-00002\r\n",
      "-rw-rw-r-- 1 wcjb wcjb  21M 5月  19 11:35 ckpt-72.data-00001-of-00002\r\n",
      "-rw-rw-r-- 1 wcjb wcjb 3.0K 5月  19 11:35 ckpt-72.index\r\n",
      "-rw-rw-r-- 1 wcjb wcjb 5.0K 5月  19 11:36 ckpt-73.data-00000-of-00002\r\n",
      "-rw-rw-r-- 1 wcjb wcjb  21M 5月  19 11:36 ckpt-73.data-00001-of-00002\r\n",
      "-rw-rw-r-- 1 wcjb wcjb 3.0K 5月  19 11:36 ckpt-73.index\r\n",
      "-rw-rw-r-- 1 wcjb wcjb 5.0K 5月  19 11:36 ckpt-74.data-00000-of-00002\r\n",
      "-rw-rw-r-- 1 wcjb wcjb  21M 5月  19 11:36 ckpt-74.data-00001-of-00002\r\n",
      "-rw-rw-r-- 1 wcjb wcjb 3.0K 5月  19 11:36 ckpt-74.index\r\n",
      "-rw-rw-r-- 1 wcjb wcjb 5.0K 5月  19 11:36 ckpt-75.data-00000-of-00002\r\n",
      "-rw-rw-r-- 1 wcjb wcjb  21M 5月  19 11:36 ckpt-75.data-00001-of-00002\r\n",
      "-rw-rw-r-- 1 wcjb wcjb 3.0K 5月  19 11:36 ckpt-75.index\r\n",
      "-rw-rw-r-- 1 wcjb wcjb 5.0K 5月  19 11:36 ckpt-76.data-00000-of-00002\r\n",
      "-rw-rw-r-- 1 wcjb wcjb  21M 5月  19 11:36 ckpt-76.data-00001-of-00002\r\n",
      "-rw-rw-r-- 1 wcjb wcjb 3.0K 5月  19 11:36 ckpt-76.index\r\n",
      "-rw-rw-r-- 1 wcjb wcjb 5.0K 5月  19 11:36 ckpt-77.data-00000-of-00002\r\n",
      "-rw-rw-r-- 1 wcjb wcjb  21M 5月  19 11:36 ckpt-77.data-00001-of-00002\r\n",
      "-rw-rw-r-- 1 wcjb wcjb 3.0K 5月  19 11:36 ckpt-77.index\r\n",
      "-rw-rw-r-- 1 wcjb wcjb 5.0K 5月  19 11:36 ckpt-78.data-00000-of-00002\r\n",
      "-rw-rw-r-- 1 wcjb wcjb  21M 5月  19 11:36 ckpt-78.data-00001-of-00002\r\n",
      "-rw-rw-r-- 1 wcjb wcjb 3.0K 5月  19 11:36 ckpt-78.index\r\n",
      "-rw-rw-r-- 1 wcjb wcjb 5.0K 5月  19 11:37 ckpt-79.data-00000-of-00002\r\n",
      "-rw-rw-r-- 1 wcjb wcjb  21M 5月  19 11:37 ckpt-79.data-00001-of-00002\r\n",
      "-rw-rw-r-- 1 wcjb wcjb 3.0K 5月  19 11:37 ckpt-79.index\r\n",
      "-rw-rw-r-- 1 wcjb wcjb 5.0K 5月  15 07:10 ckpt-7.data-00000-of-00002\r\n",
      "-rw-rw-r-- 1 wcjb wcjb  21M 5月  15 07:10 ckpt-7.data-00001-of-00002\r\n",
      "-rw-rw-r-- 1 wcjb wcjb 3.0K 5月  15 07:10 ckpt-7.index\r\n",
      "-rw-rw-r-- 1 wcjb wcjb 5.0K 5月  19 11:37 ckpt-80.data-00000-of-00002\r\n",
      "-rw-rw-r-- 1 wcjb wcjb  21M 5月  19 11:37 ckpt-80.data-00001-of-00002\r\n",
      "-rw-rw-r-- 1 wcjb wcjb 3.0K 5月  19 11:37 ckpt-80.index\r\n",
      "-rw-rw-r-- 1 wcjb wcjb 5.0K 5月  19 11:37 ckpt-81.data-00000-of-00002\r\n",
      "-rw-rw-r-- 1 wcjb wcjb  21M 5月  19 11:37 ckpt-81.data-00001-of-00002\r\n",
      "-rw-rw-r-- 1 wcjb wcjb 3.0K 5月  19 11:37 ckpt-81.index\r\n",
      "-rw-rw-r-- 1 wcjb wcjb 5.0K 5月  19 11:37 ckpt-82.data-00000-of-00002\r\n",
      "-rw-rw-r-- 1 wcjb wcjb  21M 5月  19 11:37 ckpt-82.data-00001-of-00002\r\n",
      "-rw-rw-r-- 1 wcjb wcjb 3.0K 5月  19 11:37 ckpt-82.index\r\n",
      "-rw-rw-r-- 1 wcjb wcjb 5.0K 5月  19 11:37 ckpt-83.data-00000-of-00002\r\n",
      "-rw-rw-r-- 1 wcjb wcjb  21M 5月  19 11:37 ckpt-83.data-00001-of-00002\r\n",
      "-rw-rw-r-- 1 wcjb wcjb 3.0K 5月  19 11:37 ckpt-83.index\r\n",
      "-rw-rw-r-- 1 wcjb wcjb 5.0K 5月  19 11:38 ckpt-84.data-00000-of-00002\r\n",
      "-rw-rw-r-- 1 wcjb wcjb  21M 5月  19 11:38 ckpt-84.data-00001-of-00002\r\n",
      "-rw-rw-r-- 1 wcjb wcjb 3.0K 5月  19 11:38 ckpt-84.index\r\n",
      "-rw-rw-r-- 1 wcjb wcjb 5.0K 5月  19 11:38 ckpt-85.data-00000-of-00002\r\n",
      "-rw-rw-r-- 1 wcjb wcjb  21M 5月  19 11:38 ckpt-85.data-00001-of-00002\r\n",
      "-rw-rw-r-- 1 wcjb wcjb 3.0K 5月  19 11:38 ckpt-85.index\r\n",
      "-rw-rw-r-- 1 wcjb wcjb 5.0K 5月  19 11:38 ckpt-86.data-00000-of-00002\r\n",
      "-rw-rw-r-- 1 wcjb wcjb  21M 5月  19 11:38 ckpt-86.data-00001-of-00002\r\n",
      "-rw-rw-r-- 1 wcjb wcjb 3.0K 5月  19 11:38 ckpt-86.index\r\n",
      "-rw-rw-r-- 1 wcjb wcjb 5.0K 5月  19 11:38 ckpt-87.data-00000-of-00002\r\n",
      "-rw-rw-r-- 1 wcjb wcjb  21M 5月  19 11:38 ckpt-87.data-00001-of-00002\r\n",
      "-rw-rw-r-- 1 wcjb wcjb 3.0K 5月  19 11:38 ckpt-87.index\r\n",
      "-rw-rw-r-- 1 wcjb wcjb 5.0K 5月  19 11:38 ckpt-88.data-00000-of-00002\r\n",
      "-rw-rw-r-- 1 wcjb wcjb  21M 5月  19 11:38 ckpt-88.data-00001-of-00002\r\n",
      "-rw-rw-r-- 1 wcjb wcjb 3.0K 5月  19 11:38 ckpt-88.index\r\n",
      "-rw-rw-r-- 1 wcjb wcjb 5.0K 5月  19 11:39 ckpt-89.data-00000-of-00002\r\n",
      "-rw-rw-r-- 1 wcjb wcjb  21M 5月  19 11:39 ckpt-89.data-00001-of-00002\r\n",
      "-rw-rw-r-- 1 wcjb wcjb 3.0K 5月  19 11:39 ckpt-89.index\r\n",
      "-rw-rw-r-- 1 wcjb wcjb 5.0K 5月  15 07:13 ckpt-8.data-00000-of-00002\r\n",
      "-rw-rw-r-- 1 wcjb wcjb  21M 5月  15 07:13 ckpt-8.data-00001-of-00002\r\n",
      "-rw-rw-r-- 1 wcjb wcjb 3.0K 5月  15 07:13 ckpt-8.index\r\n",
      "-rw-rw-r-- 1 wcjb wcjb 5.0K 5月  19 11:39 ckpt-90.data-00000-of-00002\r\n",
      "-rw-rw-r-- 1 wcjb wcjb  21M 5月  19 11:39 ckpt-90.data-00001-of-00002\r\n",
      "-rw-rw-r-- 1 wcjb wcjb 3.0K 5月  19 11:39 ckpt-90.index\r\n",
      "-rw-rw-r-- 1 wcjb wcjb 5.0K 5月  19 11:39 ckpt-91.data-00000-of-00002\r\n",
      "-rw-rw-r-- 1 wcjb wcjb  21M 5月  19 11:39 ckpt-91.data-00001-of-00002\r\n",
      "-rw-rw-r-- 1 wcjb wcjb 3.0K 5月  19 11:39 ckpt-91.index\r\n",
      "-rw-rw-r-- 1 wcjb wcjb 5.0K 5月  19 11:39 ckpt-92.data-00000-of-00002\r\n",
      "-rw-rw-r-- 1 wcjb wcjb  21M 5月  19 11:39 ckpt-92.data-00001-of-00002\r\n",
      "-rw-rw-r-- 1 wcjb wcjb 3.0K 5月  19 11:39 ckpt-92.index\r\n",
      "-rw-rw-r-- 1 wcjb wcjb 5.0K 5月  19 11:39 ckpt-93.data-00000-of-00002\r\n",
      "-rw-rw-r-- 1 wcjb wcjb  21M 5月  19 11:39 ckpt-93.data-00001-of-00002\r\n",
      "-rw-rw-r-- 1 wcjb wcjb 3.0K 5月  19 11:39 ckpt-93.index\r\n",
      "-rw-rw-r-- 1 wcjb wcjb 5.0K 5月  19 11:39 ckpt-94.data-00000-of-00002\r\n",
      "-rw-rw-r-- 1 wcjb wcjb  21M 5月  19 11:39 ckpt-94.data-00001-of-00002\r\n",
      "-rw-rw-r-- 1 wcjb wcjb 3.0K 5月  19 11:39 ckpt-94.index\r\n",
      "-rw-rw-r-- 1 wcjb wcjb 5.0K 5月  19 11:40 ckpt-95.data-00000-of-00002\r\n",
      "-rw-rw-r-- 1 wcjb wcjb  21M 5月  19 11:40 ckpt-95.data-00001-of-00002\r\n",
      "-rw-rw-r-- 1 wcjb wcjb 3.0K 5月  19 11:40 ckpt-95.index\r\n",
      "-rw-rw-r-- 1 wcjb wcjb 5.0K 5月  19 11:40 ckpt-96.data-00000-of-00002\r\n",
      "-rw-rw-r-- 1 wcjb wcjb  21M 5月  19 11:40 ckpt-96.data-00001-of-00002\r\n",
      "-rw-rw-r-- 1 wcjb wcjb 3.0K 5月  19 11:40 ckpt-96.index\r\n",
      "-rw-rw-r-- 1 wcjb wcjb 5.0K 5月  19 11:40 ckpt-97.data-00000-of-00002\r\n",
      "-rw-rw-r-- 1 wcjb wcjb  21M 5月  19 11:40 ckpt-97.data-00001-of-00002\r\n",
      "-rw-rw-r-- 1 wcjb wcjb 3.0K 5月  19 11:40 ckpt-97.index\r\n",
      "-rw-rw-r-- 1 wcjb wcjb 5.0K 5月  19 11:40 ckpt-98.data-00000-of-00002\r\n",
      "-rw-rw-r-- 1 wcjb wcjb  21M 5月  19 11:40 ckpt-98.data-00001-of-00002\r\n",
      "-rw-rw-r-- 1 wcjb wcjb 3.0K 5月  19 11:40 ckpt-98.index\r\n",
      "-rw-rw-r-- 1 wcjb wcjb 5.0K 5月  19 11:40 ckpt-99.data-00000-of-00002\r\n",
      "-rw-rw-r-- 1 wcjb wcjb  21M 5月  19 11:40 ckpt-99.data-00001-of-00002\r\n",
      "-rw-rw-r-- 1 wcjb wcjb 3.0K 5月  19 11:40 ckpt-99.index\r\n",
      "-rw-rw-r-- 1 wcjb wcjb 5.0K 5月  15 07:13 ckpt-9.data-00000-of-00002\r\n",
      "-rw-rw-r-- 1 wcjb wcjb  21M 5月  15 07:13 ckpt-9.data-00001-of-00002\r\n",
      "-rw-rw-r-- 1 wcjb wcjb 3.0K 5月  15 07:13 ckpt-9.index\r\n"
     ]
    }
   ],
   "source": [
    "!cd models/checkpoints/ && ls -lh"
   ]
  },
  {
   "cell_type": "code",
   "execution_count": null,
   "metadata": {},
   "outputs": [],
   "source": []
  }
 ],
 "metadata": {
  "kernelspec": {
   "display_name": "Python 3",
   "language": "python",
   "name": "python3"
  },
  "language_info": {
   "codemirror_mode": {
    "name": "ipython",
    "version": 3
   },
   "file_extension": ".py",
   "mimetype": "text/x-python",
   "name": "python",
   "nbconvert_exporter": "python",
   "pygments_lexer": "ipython3",
   "version": "3.7.6"
  },
  "toc": {
   "base_numbering": 1,
   "nav_menu": {
    "height": "179px",
    "width": "284px"
   },
   "number_sections": true,
   "sideBar": true,
   "skip_h1_title": false,
   "title_cell": "Table of Contents",
   "title_sidebar": "Contents",
   "toc_cell": false,
   "toc_position": {},
   "toc_section_display": true,
   "toc_window_display": false
  },
  "varInspector": {
   "cols": {
    "lenName": 16,
    "lenType": 16,
    "lenVar": 40
   },
   "kernels_config": {
    "python": {
     "delete_cmd_postfix": "",
     "delete_cmd_prefix": "del ",
     "library": "var_list.py",
     "varRefreshCmd": "print(var_dic_list())"
    },
    "r": {
     "delete_cmd_postfix": ") ",
     "delete_cmd_prefix": "rm(",
     "library": "var_list.r",
     "varRefreshCmd": "cat(var_dic_list()) "
    }
   },
   "types_to_exclude": [
    "module",
    "function",
    "builtin_function_or_method",
    "instance",
    "_Feature"
   ],
   "window_display": false
  }
 },
 "nbformat": 4,
 "nbformat_minor": 2
}
