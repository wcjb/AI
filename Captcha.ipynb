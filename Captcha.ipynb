{
 "cells": [
  {
   "cell_type": "markdown",
   "metadata": {},
   "source": [
    "&emsp;&emsp;最近工作需要爬取了较多网站，遇到比较头疼的是处理验证码，开始使用Python的pytesseract库，但是识别效果不是很好，于是决定自己手撸一个验证码识别库。"
   ]
  },
  {
   "cell_type": "code",
   "execution_count": 2,
   "metadata": {
    "ExecuteTime": {
     "end_time": "2020-05-19T16:01:54.420192Z",
     "start_time": "2020-05-19T16:01:54.366142Z"
    }
   },
   "outputs": [],
   "source": [
    "from captcha.image import ImageCaptcha\n",
    "from PIL import Image\n",
    "import numpy as np\n",
    "import random\n",
    "import string\n",
    "\n",
    "class generateCaptcha():\n",
    "    def __init__(self,\n",
    "                 width = 160,#验证码图片的宽\n",
    "                 height = 60,#验证码图片的高\n",
    "                 char_num = 4,#验证码字符个数\n",
    "                 characters = string.digits + string.ascii_uppercase + string.ascii_lowercase):#验证码组成，数字+大写字母+小写字母\n",
    "        self.width = width\n",
    "        self.height = height\n",
    "        self.char_num = char_num\n",
    "        self.characters = characters\n",
    "        self.classes = len(characters)\n",
    "\n",
    "    def gen_captcha(self,batch_size = 50):\n",
    "        X = np.zeros([batch_size,self.height,self.width,1])\n",
    "        img = np.zeros((self.height,self.width),dtype=np.uint8)\n",
    "        Y = np.zeros([batch_size,self.char_num,self.classes])\n",
    "        image = ImageCaptcha(width = self.width,height = self.height)\n",
    "\n",
    "        while True:\n",
    "            for i in range(batch_size):\n",
    "                \n",
    "                captcha_str = ''.join(random.sample(self.characters,self.char_num))\n",
    "                img = image.generate_image(captcha_str).convert('L')\n",
    "                img = np.array(img.getdata())\n",
    "                X[i] = np.reshape(img,[self.height,self.width,1])/255.0\n",
    "                for j,ch in enumerate(captcha_str):\n",
    "                    Y[i,j,self.characters.find(ch)] = 1 \n",
    "            Y = np.reshape(Y,(batch_size,self.char_num*self.classes))\n",
    "            yield X,Y\n",
    "\n",
    "    def decode_captcha(self,y):\n",
    "        y = np.reshape(y,(len(y),self.char_num,self.classes))\n",
    "        return ''.join(self.characters[x] for x in np.argmax(y,axis = 2)[0,:])\n",
    "\n",
    "    def get_parameter(self):\n",
    "        return self.width,self.height,self.char_num,self.characters,self.classes\n"
   ]
  },
  {
   "cell_type": "code",
   "execution_count": 3,
   "metadata": {
    "ExecuteTime": {
     "end_time": "2020-05-19T16:02:15.101824Z",
     "start_time": "2020-05-19T16:02:15.095916Z"
    }
   },
   "outputs": [],
   "source": [
    "gc = generateCaptcha()"
   ]
  },
  {
   "cell_type": "code",
   "execution_count": 6,
   "metadata": {
    "ExecuteTime": {
     "end_time": "2020-05-20T01:05:20.702289Z",
     "start_time": "2020-05-20T01:05:20.691584Z"
    }
   },
   "outputs": [
    {
     "data": {
      "image/png": "[encoded data removed]",
      "text/plain": [
       "<PIL.Image.Image image mode=RGB size=160x60 at 0x7FB98D7BC790>"
      ]
     },
     "execution_count": 6,
     "metadata": {},
     "output_type": "execute_result"
    }
   ],
   "source": [
    "from captcha.image import ImageCaptcha\n",
    "import random\n",
    "import string\n",
    "\n",
    "image = ImageCaptcha(160,60)    # 图片宽 160 高 60\n",
    "characters = string.digits + string.ascii_uppercase + string.ascii_lowercase        #验证码组成，数字+大写字母+小写字母\n",
    "char_num = 4 #验证码字符个数\n",
    "\n",
    "captcha_str = ''.join(random.sample(characters, char_num))\n",
    "img = image.generate_image(captcha_str)\n",
    "img"
   ]
  },
  {
   "cell_type": "code",
   "execution_count": 10,
   "metadata": {
    "ExecuteTime": {
     "end_time": "2020-05-19T16:05:14.053009Z",
     "start_time": "2020-05-19T16:05:14.046683Z"
    }
   },
   "outputs": [
    {
     "data": {
      "image/png": "[encoded data removed]",
      "text/plain": [
       "<PIL.Image.Image image mode=RGB size=160x60 at 0x7FB20346A910>"
      ]
     },
     "execution_count": 10,
     "metadata": {},
     "output_type": "execute_result"
    }
   ],
   "source": [
    "img"
   ]
  },
  {
   "cell_type": "markdown",
   "metadata": {},
   "source": [
    "# 目标API\n",
    "\n",
    "+ https://www.rclgroup.com/admin/CommonCx/captcha/captcha.jpg?v=2050\n",
    "\n",
    "+ https://www.shipmentlink.com//servlet/TUF1_CaptchaUtils?d=1589938414501\n",
    " "
   ]
  },
  {
   "cell_type": "code",
   "execution_count": 7,
   "metadata": {
    "ExecuteTime": {
     "end_time": "2020-05-20T01:52:42.156726Z",
     "start_time": "2020-05-20T01:52:42.037079Z"
    }
   },
   "outputs": [
    {
     "name": "stdout",
     "output_type": "stream",
     "text": [
      "Captcha.ipynb\t   CIFAR10-Tensorflow.ipynb  README.md\r\n",
      "chinese-ocr\t   DeliverySpider.ipynb      TensorFlow-2.x-Tutorials\r\n",
      "CifaData\t   jupyter-cmd.md\r\n",
      "CIFAR100_tutorial  models\r\n"
     ]
    }
   ],
   "source": [
    "!ls"
   ]
  },
  {
   "cell_type": "code",
   "execution_count": null,
   "metadata": {},
   "outputs": [],
   "source": []
  }
 ],
 "metadata": {
  "kernelspec": {
   "display_name": "Python 3",
   "language": "python",
   "name": "python3"
  },
  "language_info": {
   "codemirror_mode": {
    "name": "ipython",
    "version": 3
   },
   "file_extension": ".py",
   "mimetype": "text/x-python",
   "name": "python",
   "nbconvert_exporter": "python",
   "pygments_lexer": "ipython3",
   "version": "3.7.6"
  },
  "toc": {
   "base_numbering": 1,
   "nav_menu": {},
   "number_sections": true,
   "sideBar": true,
   "skip_h1_title": false,
   "title_cell": "Table of Contents",
   "title_sidebar": "Contents",
   "toc_cell": false,
   "toc_position": {},
   "toc_section_display": true,
   "toc_window_display": false
  },
  "varInspector": {
   "cols": {
    "lenName": 16,
    "lenType": 16,
    "lenVar": 40
   },
   "kernels_config": {
    "python": {
     "delete_cmd_postfix": "",
     "delete_cmd_prefix": "del ",
     "library": "var_list.py",
     "varRefreshCmd": "print(var_dic_list())"
    },
    "r": {
     "delete_cmd_postfix": ") ",
     "delete_cmd_prefix": "rm(",
     "library": "var_list.r",
     "varRefreshCmd": "cat(var_dic_list()) "
    }
   },
   "types_to_exclude": [
    "module",
    "function",
    "builtin_function_or_method",
    "instance",
    "_Feature"
   ],
   "window_display": false
  }
 },
 "nbformat": 4,
 "nbformat_minor": 4
}
