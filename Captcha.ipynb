{
 "cells": [
  {
   "cell_type": "markdown",
   "metadata": {},
   "source": [
    "&emsp;&emsp;最近工作需要爬取了较多网站，遇到比较头疼的是处理验证码，开始使用Python的pytesseract库，但是识别效果不是很好，于是决定自己手撸一个验证码识别库。"
   ]
  },
  {
   "cell_type": "markdown",
   "metadata": {},
   "source": [
    "# 目标API\n",
    "\n",
    "+ https://www.rclgroup.com/admin/CommonCx/captcha/captcha.jpg?v=2050\n",
    "\n",
    "+ https://www.shipmentlink.com//servlet/TUF1_CaptchaUtils?d=1589938414501\n",
    " "
   ]
  },
  {
   "cell_type": "markdown",
   "metadata": {},
   "source": [
    "## 生成验证码数据集"
   ]
  },
  {
   "cell_type": "markdown",
   "metadata": {
    "ExecuteTime": {
     "end_time": "2020-05-20T02:20:02.937213Z",
     "start_time": "2020-05-20T02:20:02.931729Z"
    }
   },
   "source": [
    "### 生成测试集"
   ]
  },
  {
   "cell_type": "code",
   "execution_count": 1,
   "metadata": {
    "ExecuteTime": {
     "end_time": "2020-05-20T15:57:13.980896Z",
     "start_time": "2020-05-20T15:57:13.896763Z"
    }
   },
   "outputs": [],
   "source": [
    "import os\n",
    "import requests\n",
    "from tqdm.notebook import tqdm"
   ]
  },
  {
   "cell_type": "code",
   "execution_count": 2,
   "metadata": {
    "ExecuteTime": {
     "end_time": "2020-05-20T08:49:00.666368Z",
     "start_time": "2020-05-20T08:48:31.722598Z"
    }
   },
   "outputs": [
    {
     "data": {
      "application/vnd.jupyter.widget-view+json": {
       "model_id": "08dd84f3f0da46bc8e69765ee815e0b6",
       "version_major": 2,
       "version_minor": 0
      },
      "text/plain": [
       "HBox(children=(FloatProgress(value=0.0, max=20.0), HTML(value='')))"
      ]
     },
     "metadata": {},
     "output_type": "display_data"
    },
    {
     "name": "stdout",
     "output_type": "stream",
     "text": [
      "HTTPSConnectionPool(host='www.rclgroup.com', port=443): Max retries exceeded with url: /admin/CommonCx/captcha/captcha.jpg?v=2050 (Caused by ConnectTimeoutError(<urllib3.connection.VerifiedHTTPSConnection object at 0x7fc5117be810>, 'Connection to www.rclgroup.com timed out. (connect timeout=1.5)'))\n",
      "\n"
     ]
    }
   ],
   "source": [
    "#图片获取接口\n",
    "api_url_one = 'https://www.rclgroup.com/admin/CommonCx/captcha/captcha.jpg?v=2050'\n",
    "api_url_two = 'https://www.shipmentlink.com//servlet/TUF1_CaptchaUtils?d=1589938414501'\n",
    "\n",
    "    \n",
    "def get_captcha(url,index):\n",
    "    \n",
    "    captcha_path = './captcha_sample/test/'\n",
    "    if not os.path.exists(captcha_path):\n",
    "        os.mkdir(captcha_path)\n",
    "        \n",
    "    try:\n",
    "        r = requests.get(url,timeout=1.5)\n",
    "        r.encoding = r.apparent_encoding\n",
    "        if r.status_code == 200:\n",
    "            with open(captcha_path+str(index)+'.jpg','wb') as pic:\n",
    "                pic.write(r.content)\n",
    "                pic.close()\n",
    "    except BaseException as Be:\n",
    "        print(Be)\n",
    "\n",
    "    return 1\n",
    "# 每个接口各自采集20张验证码保存在./captcha目录下\n",
    "# 便于后续验证模型识别准确率\n",
    "for i in tqdm(range(20)):\n",
    "    get_captcha(api_url_one,2*i)\n",
    "    get_captcha(api_url_two,2*i+1)\n",
    "    "
   ]
  },
  {
   "cell_type": "markdown",
   "metadata": {},
   "source": [
    "### 生成训练集和验证集\n",
    "\n",
    "&emsp;&emsp;使用Python的captcha生成训练数据集和验证数据集"
   ]
  },
  {
   "cell_type": "code",
   "execution_count": 2,
   "metadata": {
    "ExecuteTime": {
     "end_time": "2020-05-20T15:57:15.788450Z",
     "start_time": "2020-05-20T15:57:15.775895Z"
    }
   },
   "outputs": [],
   "source": [
    "from captcha.image import ImageCaptcha\n",
    "from PIL import Image\n",
    "import numpy as np\n",
    "import random\n",
    "import string\n",
    "\n",
    "def captcha(width=128,height=128,char_num=4):\n",
    "    \n",
    "    image = ImageCaptcha(width,height)\n",
    "    #设置验证码组成，数字+大写字母+小写字母\n",
    "    characters = string.digits + string.ascii_uppercase + string.ascii_lowercase\n",
    "    captcha_str = ''.join(random.sample(characters,char_num))\n",
    "    img = image.generate_image(captcha_str)\n",
    "    return img,captcha_str"
   ]
  },
  {
   "cell_type": "code",
   "execution_count": 3,
   "metadata": {
    "ExecuteTime": {
     "end_time": "2020-05-20T15:57:43.706220Z",
     "start_time": "2020-05-20T15:57:17.176322Z"
    }
   },
   "outputs": [
    {
     "data": {
      "application/vnd.jupyter.widget-view+json": {
       "model_id": "b83942fe4d2b40e0b56db26ec4dc1b85",
       "version_major": 2,
       "version_minor": 0
      },
      "text/plain": [
       "HBox(children=(FloatProgress(value=0.0, max=10000.0), HTML(value='')))"
      ]
     },
     "metadata": {},
     "output_type": "display_data"
    },
    {
     "name": "stdout",
     "output_type": "stream",
     "text": [
      "\n"
     ]
    }
   ],
   "source": [
    "from tqdm.notebook import tqdm\n",
    "captcha_path = './captcha_sample/train/'\n",
    "if not os.path.exists(captcha_path):\n",
    "    os.mkdir(captcha_path)\n",
    "imgs,labels = [],[]\n",
    "for i in tqdm(range(10000)):\n",
    "    img,cstr = captcha()\n",
    "    imgs.append(img)\n",
    "    labels.append(cstr)\n",
    "    "
   ]
  },
  {
   "cell_type": "markdown",
   "metadata": {},
   "source": [
    "## 验证码增强"
   ]
  },
  {
   "cell_type": "code",
   "execution_count": 4,
   "metadata": {
    "ExecuteTime": {
     "end_time": "2020-05-20T15:57:49.199889Z",
     "start_time": "2020-05-20T15:57:48.132074Z"
    }
   },
   "outputs": [],
   "source": [
    "import cv2\n",
    "import tensorflow as tf\n",
    "# 使用显卡进行时，将GPU的显存使用策略设置为 “仅在需要时申请显存空间”,不然会申请所有显存空间，报错\n",
    "gpu_devices = tf.config.experimental.list_physical_devices(\"GPU\")\n",
    "for device in gpu_devices:\n",
    "    tf.config.experimental.set_memory_growth(device, True)\n",
    "def CLAHE(img):\n",
    "    grayimg = cv2.cvtColor(img, cv2.COLOR_BGR2GRAY)\n",
    "    # 局部直方图均值化\n",
    "    clahe = cv2.createCLAHE(clipLimit=2.0, tileGridSize=(8,8))\n",
    "    cl1 = clahe.apply(grayimg)\n",
    "    return cl1\n",
    "\n",
    "def Histograms_Equalization(img):\n",
    "        \n",
    "    grayimg = cv2.cvtColor(img, cv2.COLOR_BGR2GRAY)\n",
    "    # 直方图均值化\n",
    "    equ = cv2.equalizeHist(grayimg)\n",
    "    return equ"
   ]
  },
  {
   "cell_type": "code",
   "execution_count": 9,
   "metadata": {
    "ExecuteTime": {
     "end_time": "2020-05-20T15:01:15.324494Z",
     "start_time": "2020-05-20T15:01:15.318361Z"
    }
   },
   "outputs": [
    {
     "data": {
      "text/plain": [
       "'UcMC'"
      ]
     },
     "execution_count": 9,
     "metadata": {},
     "output_type": "execute_result"
    }
   ],
   "source": [
    "labels[0]"
   ]
  },
  {
   "cell_type": "code",
   "execution_count": 19,
   "metadata": {
    "ExecuteTime": {
     "end_time": "2020-05-20T16:11:18.941546Z",
     "start_time": "2020-05-20T16:11:18.917299Z"
    },
    "code_folding": [
     2,
     7,
     21,
     39,
     116
    ]
   },
   "outputs": [],
   "source": [
    "from matplotlib import pyplot as plt\n",
    "class ImageRecognition(object):\n",
    "\n",
    "    def __init__(self):\n",
    "        #字符字典大小:0-9 a-z A-Z _(验证码如果小于4，用_补齐) 一共63个字符\n",
    "        self.char_index = 63\n",
    "        self.path = ''\n",
    "        \n",
    "    def __char2pos__(self,char):\n",
    "        if char == '_':\n",
    "            k = 62\n",
    "            return k\n",
    "        # ord()用于返回单个字符的ASCII编码，数字0-9的编码从48开始\n",
    "        k = ord(char) - 48\n",
    "        if k > 9:\n",
    "            k = ord(char) - 55\n",
    "            if k > 35:\n",
    "                k = ord(char) - 61\n",
    "                if k > 61:\n",
    "                    raise ValueError('No Map!')\n",
    "        return k\n",
    "\n",
    "    def text2vec(self,text):\n",
    "        \"\"\"\n",
    "\t\t文本转向量\n",
    "\t\tParameters:\n",
    "\t\t\ttext:文本\n",
    "\t\tReturns:\n",
    "\t\t\tvector:向量\n",
    "\t\t\"\"\"\n",
    "        if len(text) > 4:\n",
    "            raise ValueError('验证码最长4个字符')\n",
    " \n",
    "        vector = np.zeros(4 * self.char_index)\n",
    "\t\t\n",
    "        for i, c in enumerate(text):\n",
    "            idx = i * self.char_index + self.__char2pos__(c)\n",
    "            vector[idx] = 1\n",
    "        return vector\n",
    "    \n",
    "    def vec2text(self, vec):\n",
    "        \"\"\"\n",
    "\t\t向量转文本\n",
    "\t\tParameters:\n",
    "\t\t\tvec:向量\n",
    "\t\tReturns:\n",
    "\t\t\t文本\n",
    "\t\t\"\"\"\n",
    "        char_pos = vec.nonzero()[0]\n",
    "        text = []\n",
    "        for i, c in enumerate(char_pos):\n",
    "            char_at_pos = i #c/63\n",
    "            char_idx = c % self.char_index\n",
    "            if char_idx < 10:\n",
    "                char_code = char_idx + ord('0')\n",
    "            elif char_idx < 36:\n",
    "                char_code = char_idx - 10 + ord('A')\n",
    "            elif char_idx < 62:\n",
    "                char_code = char_idx - 36 + ord('a')\n",
    "            elif char_idx == 62:\n",
    "                char_code = ord('_')\n",
    "            else:\n",
    "                raise ValueError('error')\n",
    "            text.append(chr(char_code))\n",
    "        return \"\".join(text)\n",
    "\n",
    "    def split_image(self,image):\n",
    "        \"\"\"\n",
    "        传入图片进行二值化处理，并进行图像分割\n",
    "        \"\"\"\n",
    "        # 将图片转为灰度图片即将图片数据从三维RBG数据转为二维灰度数据\n",
    "        gray = cv2.cvtColor(image, cv2.COLOR_BGR2GRAY)\n",
    "        # 生成图片边界cv2.copyMakeBorder(src,top, bottom, left, right ,borderType,value)\n",
    "        # top,bottom,left,right 表示四个方向上边界的长度，cv2.BORDER_REPLICATE表示直接用边界的颜色填充\n",
    "        gray = cv2.copyMakeBorder(gray, 8, 8, 8, 8, cv2.BORDER_REPLICATE)\n",
    "        # 图像的阈值处理：二值化\n",
    "        thresh = cv2.threshold(gray, 0, 255, cv2.THRESH_BINARY_INV | cv2.THRESH_OTSU)[1]\n",
    "        # 检测图片中对象的轮廓\n",
    "        contours = cv2.findContours(thresh.copy(), cv2.RETR_EXTERNAL, cv2.CHAIN_APPROX_SIMPLE)\n",
    "        # contours为cv检测出来的轮廓，后者用以保存轮廓的坐标\n",
    "        contours,letter_image_regions = contours[0],[]\n",
    "        \n",
    "        for contour in contours:\n",
    "            \n",
    "            # 得到字母的矩形轮廓，x，y是矩阵左上点的坐标，w，h是矩阵的宽和高\n",
    "            (x, y, w, h) = cv2.boundingRect(contour)\n",
    "            # 当多个字母连接在一起时，除非字母大小差异较大，不然相较单个字符其宽度较大\n",
    "            # 基于此来将连接在一起的字母进行切割\n",
    "            if w / h > 1.5:\n",
    "                # 对于两个字符连接在一起的直接从中间切割\n",
    "                # 这种方式比较简单粗暴，理论上可以在像素点稀疏处切割\n",
    "                half_width = int(w / 2)\n",
    "                if (w > 10) and (h > 10):\n",
    "                    letter_image_regions.append((x, y, half_width, h))\n",
    "                    letter_image_regions.append((x + half_width, y, half_width, h))\n",
    "            else:\n",
    "                # 不存在连接情况的字母，直接添加轮廓\n",
    "                if (w > 10) and (h > 10):\n",
    "                    letter_image_regions.append((x, y, w, h))\n",
    "            # if len(letter_image_regions)!=4:\n",
    "            #     continue\n",
    "            # 根据横坐标对检测到的字母进行排序，以确保我们是以从左到右的顺序对图片进行处理，这样便于将图片和字母进行对应\n",
    "        letter_image_regions = sorted(letter_image_regions, key=lambda x: x[0])\n",
    "            \n",
    "        letter_image = []\n",
    "        # 显示分割后的图像\n",
    "        for index,letter_bounding_box in enumerate(letter_image_regions[:4]):\n",
    "            # 获取图片中字母的坐标\n",
    "            x, y, w, h = letter_bounding_box\n",
    "\n",
    "            # 从原始图像中提取字母，并在边缘周围留出2个像素的边距\n",
    "            letter_image.append(gray[y - 2:y + h + 2, x - 2:x + w + 2])\n",
    "            plt.subplot(1,5,index+1)\n",
    "            plt.imshow(gray[y - 2:y + h + 2, x - 2:x + w + 2])\n",
    "\n",
    "        return letter_image_regions,letter_image\n",
    "            \n",
    "\n",
    "    def resize_to_fit(self,image, width, height):\n",
    "        \"\"\"\n",
    "        按指定大小改变图片大小\n",
    "        :param image: 图片\n",
    "        :param width: 修改后图片的宽\n",
    "        :param height: 修改后图片的高\n",
    "        :return: 返回修改后的图片\n",
    "        \"\"\"\n",
    "    \n",
    "        (h, w) = image.shape[:2]\n",
    "        if w > h:\n",
    "            image = imutils.resize(image, width=width)\n",
    "        else:\n",
    "            image = imutils.resize(image, height=height)\n",
    "\n",
    "        padW = int((width - image.shape[1]) / 2.0)\n",
    "        padH = int((height - image.shape[0]) / 2.0)\n",
    "\n",
    "        image = cv2.copyMakeBorder(image, padH, padH, padW, padW,\n",
    "            cv2.BORDER_REPLICATE)\n",
    "        image = cv2.resize(image, (width, height))\n",
    "        return image\n",
    "            "
   ]
  },
  {
   "cell_type": "code",
   "execution_count": 20,
   "metadata": {
    "ExecuteTime": {
     "end_time": "2020-05-20T16:11:21.382837Z",
     "start_time": "2020-05-20T16:11:21.253575Z"
    }
   },
   "outputs": [
    {
     "name": "stderr",
     "output_type": "stream",
     "text": [
      "/home/wcjb/anaconda3/lib/python3.7/site-packages/ipykernel_launcher.py:114: UserWarning: Attempting to set identical left == right == -0.5 results in singular transformations; automatically expanding.\n"
     ]
    },
    {
     "data": {
      "image/png": "[encoded data removed]",
      "text/plain": [
       "<Figure size 432x288 with 2 Axes>"
      ]
     },
     "metadata": {
      "needs_background": "light"
     },
     "output_type": "display_data"
    }
   ],
   "source": [
    "ir = ImageRecognition()\n",
    "_,l = ir.split_image(np.array(imgs[0]))"
   ]
  },
  {
   "cell_type": "code",
   "execution_count": 18,
   "metadata": {
    "ExecuteTime": {
     "end_time": "2020-05-20T16:04:40.223299Z",
     "start_time": "2020-05-20T16:04:40.130932Z"
    }
   },
   "outputs": [
    {
     "data": {
      "text/plain": [
       "<matplotlib.image.AxesImage at 0x7f7df7f4e490>"
      ]
     },
     "execution_count": 18,
     "metadata": {},
     "output_type": "execute_result"
    },
    {
     "data": {
      "image/png": "[encoded data removed]",
      "text/plain": [
       "<Figure size 432x288 with 1 Axes>"
      ]
     },
     "metadata": {
      "needs_background": "light"
     },
     "output_type": "display_data"
    }
   ],
   "source": [
    "plt.imshow(imgs[0])"
   ]
  },
  {
   "cell_type": "code",
   "execution_count": 13,
   "metadata": {
    "ExecuteTime": {
     "end_time": "2020-05-20T15:59:46.359810Z",
     "start_time": "2020-05-20T15:59:46.353656Z"
    }
   },
   "outputs": [
    {
     "data": {
      "text/plain": [
       "(128, 128, 3)"
      ]
     },
     "execution_count": 13,
     "metadata": {},
     "output_type": "execute_result"
    }
   ],
   "source": [
    "np.array(imgs[1]).shape"
   ]
  },
  {
   "cell_type": "code",
   "execution_count": null,
   "metadata": {},
   "outputs": [],
   "source": []
  }
 ],
 "metadata": {
  "kernelspec": {
   "display_name": "Python 3",
   "language": "python",
   "name": "python3"
  },
  "language_info": {
   "codemirror_mode": {
    "name": "ipython",
    "version": 3
   },
   "file_extension": ".py",
   "mimetype": "text/x-python",
   "name": "python",
   "nbconvert_exporter": "python",
   "pygments_lexer": "ipython3",
   "version": "3.7.6"
  },
  "toc": {
   "base_numbering": 1,
   "nav_menu": {},
   "number_sections": true,
   "sideBar": true,
   "skip_h1_title": false,
   "title_cell": "Table of Contents",
   "title_sidebar": "Contents",
   "toc_cell": false,
   "toc_position": {},
   "toc_section_display": true,
   "toc_window_display": false
  },
  "varInspector": {
   "cols": {
    "lenName": 16,
    "lenType": 16,
    "lenVar": 40
   },
   "kernels_config": {
    "python": {
     "delete_cmd_postfix": "",
     "delete_cmd_prefix": "del ",
     "library": "var_list.py",
     "varRefreshCmd": "print(var_dic_list())"
    },
    "r": {
     "delete_cmd_postfix": ") ",
     "delete_cmd_prefix": "rm(",
     "library": "var_list.r",
     "varRefreshCmd": "cat(var_dic_list()) "
    }
   },
   "types_to_exclude": [
    "module",
    "function",
    "builtin_function_or_method",
    "instance",
    "_Feature"
   ],
   "window_display": false
  }
 },
 "nbformat": 4,
 "nbformat_minor": 4
}
