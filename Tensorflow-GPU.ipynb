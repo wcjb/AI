{
 "cells": [
  {
   "cell_type": "code",
   "execution_count": 2,
   "metadata": {},
   "outputs": [],
   "source": [
    "import tensorflow  as tf"
   ]
  },
  {
   "cell_type": "markdown",
   "metadata": {},
   "source": [
    "返回运行时可见的物理设备列表，默认情况下，所有发现的CPU和GPU设备都被视为可见的。"
   ]
  },
  {
   "cell_type": "code",
   "execution_count": 4,
   "metadata": {},
   "outputs": [
    {
     "data": {
      "text/plain": [
       "[PhysicalDevice(name='/physical_device:CPU:0', device_type='CPU'),\n",
       " PhysicalDevice(name='/physical_device:XLA_CPU:0', device_type='XLA_CPU'),\n",
       " PhysicalDevice(name='/physical_device:GPU:0', device_type='GPU'),\n",
       " PhysicalDevice(name='/physical_device:XLA_GPU:0', device_type='XLA_GPU')]"
      ]
     },
     "execution_count": 4,
     "metadata": {},
     "output_type": "execute_result"
    }
   ],
   "source": [
    "tf.config.experimental.list_physical_devices(device_type=None)"
   ]
  },
  {
   "cell_type": "markdown",
   "metadata": {},
   "source": [
    "查看GPU设备信息"
   ]
  },
  {
   "cell_type": "code",
   "execution_count": 5,
   "metadata": {
    "scrolled": true
   },
   "outputs": [
    {
     "name": "stdout",
     "output_type": "stream",
     "text": [
      "Wed May 13 09:23:07 2020       \r\n",
      "+-----------------------------------------------------------------------------+\r\n",
      "| NVIDIA-SMI 440.64       Driver Version: 440.64       CUDA Version: 10.2     |\r\n",
      "|-------------------------------+----------------------+----------------------+\r\n",
      "| GPU  Name        Persistence-M| Bus-Id        Disp.A | Volatile Uncorr. ECC |\r\n",
      "| Fan  Temp  Perf  Pwr:Usage/Cap|         Memory-Usage | GPU-Util  Compute M. |\r\n",
      "|===============================+======================+======================|\r\n",
      "|   0  GeForce RTX 2070    Off  | 00000000:01:00.0  On |                  N/A |\r\n",
      "|  0%   48C    P8    20W / 175W |    163MiB /  7979MiB |      0%      Default |\r\n",
      "+-------------------------------+----------------------+----------------------+\r\n",
      "                                                                               \r\n",
      "+-----------------------------------------------------------------------------+\r\n",
      "| Processes:                                                       GPU Memory |\r\n",
      "|  GPU       PID   Type   Process name                             Usage      |\r\n",
      "|=============================================================================|\r\n",
      "|    0       937      G   /usr/lib/xorg/Xorg                            62MiB |\r\n",
      "|    0      1668      G   /usr/bin/gnome-shell                          87MiB |\r\n",
      "+-----------------------------------------------------------------------------+\r\n"
     ]
    }
   ],
   "source": [
    "!nvidia-smi"
   ]
  },
  {
   "cell_type": "markdown",
   "metadata": {},
   "source": [
    "检查GPU是否可用"
   ]
  },
  {
   "cell_type": "code",
   "execution_count": 6,
   "metadata": {},
   "outputs": [
    {
     "data": {
      "text/plain": [
       "True"
      ]
     },
     "execution_count": 6,
     "metadata": {},
     "output_type": "execute_result"
    }
   ],
   "source": [
    "tf.test.is_gpu_available()"
   ]
  },
  {
   "cell_type": "markdown",
   "metadata": {},
   "source": [
    "查看GPU是否可用"
   ]
  },
  {
   "cell_type": "code",
   "execution_count": 7,
   "metadata": {},
   "outputs": [
    {
     "data": {
      "text/plain": [
       "[PhysicalDevice(name='/physical_device:GPU:0', device_type='GPU')]"
      ]
     },
     "execution_count": 7,
     "metadata": {},
     "output_type": "execute_result"
    }
   ],
   "source": [
    "tf.config.experimental.list_physical_devices('GPU')"
   ]
  },
  {
   "cell_type": "code",
   "execution_count": 8,
   "metadata": {},
   "outputs": [],
   "source": [
    "# 启用设备放置日志记录将导致打印任何张量分配或操作\n",
    "tf.debugging.set_log_device_placement(True)"
   ]
  },
  {
   "cell_type": "code",
   "execution_count": 9,
   "metadata": {},
   "outputs": [
    {
     "name": "stdout",
     "output_type": "stream",
     "text": [
      "Executing op MatMul in device /job:localhost/replica:0/task:0/device:GPU:0\n",
      "tf.Tensor(\n",
      "[[22. 28.]\n",
      " [49. 64.]], shape=(2, 2), dtype=float32)\n"
     ]
    }
   ],
   "source": [
    "a = tf.constant([[1.0, 2.0, 3.0], [4.0, 5.0, 6.0]])\n",
    "b = tf.constant([[1.0, 2.0], [3.0, 4.0], [5.0, 6.0]])\n",
    "c = tf.matmul(a, b)\n",
    "print(c)"
   ]
  },
  {
   "cell_type": "code",
   "execution_count": 11,
   "metadata": {},
   "outputs": [
    {
     "data": {
      "text/plain": [
       "VirtualDeviceConfiguration(memory_limit=1024)"
      ]
     },
     "execution_count": 11,
     "metadata": {},
     "output_type": "execute_result"
    }
   ],
   "source": [
    "tf.config.experimental.VirtualDeviceConfiguration(memory_limit=1024)"
   ]
  },
  {
   "cell_type": "markdown",
   "metadata": {},
   "source": [
    "    使用tf.device指定张量计算的设备"
   ]
  },
  {
   "cell_type": "code",
   "execution_count": 12,
   "metadata": {},
   "outputs": [
    {
     "name": "stdout",
     "output_type": "stream",
     "text": [
      "Executing op MatMul in device /job:localhost/replica:0/task:0/device:GPU:0\n",
      "tf.Tensor(\n",
      "[[22. 28.]\n",
      " [49. 64.]], shape=(2, 2), dtype=float32)\n"
     ]
    }
   ],
   "source": [
    "with tf.device('/GPU:0'):\n",
    "    a = tf.constant([[1.0, 2.0, 3.0], [4.0, 5.0, 6.0]])\n",
    "    b = tf.constant([[1.0, 2.0], [3.0, 4.0], [5.0, 6.0]])\n",
    "    c = tf.matmul(a, b)\n",
    "    print(c)"
   ]
  },
  {
   "cell_type": "markdown",
   "metadata": {},
   "source": [
    "+ CIFAR-10数据集\n",
    "\n",
    "&emsp;&emsp;CIFAR-10数据集是一个用于识别普适物体的小型数据集，它一共包含10个类别的RGB彩色图片：飞机（airplane）、汽车（automobile）、鸟类（bird）、猫（cat）、鹿（deer）、狗（dog）、蛙类（frog）、马（horse）、船（ship）和卡车（truck）。图片的尺寸为32x32，该数据集一共有50000张训练图片和10000张测试图片。"
   ]
  },
  {
   "cell_type": "code",
   "execution_count": 25,
   "metadata": {},
   "outputs": [
    {
     "name": "stdout",
     "output_type": "stream",
     "text": [
      "wcjb@192.168.1.12's password: \n"
     ]
    }
   ],
   "source": [
    "# 使用scp将本地文件上传到服务器中\n",
    "!scp /Users/weichijunbo/Downloads/cifar-10-python.tar.gz wcjb@192.168.1.12:/home/wcjb/Code/dataset"
   ]
  },
  {
   "cell_type": "markdown",
   "metadata": {},
   "source": [
    "&emsp;&emsp;1个10000x3072大小的uint8s数组。数组的每行存储1张32*32的图像,第1个1024包含红色通道值，下1个包含绿色，最后的1024包含蓝色。图像存储以行顺序为主，所以数组的前32列为图像第1行的红色通道值。"
   ]
  },
  {
   "cell_type": "code",
   "execution_count": 16,
   "metadata": {},
   "outputs": [],
   "source": [
    "import pickle\n",
    "import os\n",
    "from PIL import Image\n",
    "from tqdm import tqdm\n",
    "import numpy as np\n",
    "class CIFAR10(object):\n",
    "    \n",
    "    def __init__(self,path='/home/wcjb/Code/Dataset/cifar-10-batches-py/'):\n",
    "        self.trainpath = [os.path.join(path,'data_batch_'+str(i+1)) for i in range(5)]\n",
    "        self.testpath = [os.path.join(path,'test_batch')]\n",
    "    \n",
    "    def unpickle(self,file):\n",
    "        with open(file, 'rb') as fo:\n",
    "            dict = pickle.load(fo, encoding = 'iso-8859-1') # \n",
    "        return dict\n",
    "    \n",
    "    def load_batch(self,file):\n",
    "        \n",
    "        with open(file, 'rb')as f:\n",
    "            datadict = self.unpickle(file)\n",
    "            data = datadict['data']\n",
    "            label = datadict['labels']\n",
    "            data = data.reshape(10000, 3, 32, 32)\n",
    "            label = np.array(label)\n",
    "            return data,label\n",
    "        \n",
    "    def toimg(self,data):\n",
    "        img = []\n",
    "        for i in range(data.shape[0]):\n",
    "            imgs = data[i - 1]\n",
    "            r = imgs[0]\n",
    "            g = imgs[1]\n",
    "            b = imgs[2]\n",
    "            R = Image.fromarray(r)\n",
    "            G = Image.fromarray(g)\n",
    "            B = Image.fromarray(b)\n",
    "            \n",
    "            img.append(Image.merge(\"RGB\",(R,G,B)))\n",
    "        return img\n",
    "            \n",
    "        \n",
    "    def cif2img(self):\n",
    "        \n",
    "        train_img,test_img = [],[]\n",
    "    \n",
    "        for tp in tqdm(self.trainpath,desc='Train-img'):\n",
    "            \n",
    "            data,label = self.load_batch(tp)\n",
    "            train_img.append(self.toimg(data))\n",
    "            \n",
    "        for tp in tqdm(self.testpath,desc='Test-img '):\n",
    "            \n",
    "            data,label = self.load_batch(tp)\n",
    "            test_img.append(self.toimg(data))\n",
    "            \n",
    "            \n",
    "        return train_img,test_img\n",
    "        \n",
    "    def cif2data(self):\n",
    "        \n",
    "        x_train,y_train,x_test,y_test = [],[],[],[]\n",
    "        for tp in tqdm(self.trainpath,desc='Train'):\n",
    "        \n",
    "            data,label = self.load_batch(tp)\n",
    "            x_train.append(data)\n",
    "            y_train.append(label)\n",
    "        for tp in tqdm(self.testpath,desc='Test '):\n",
    "            data,label = self.load_batch(tp)\n",
    "            x_test.append(data)\n",
    "            y_test.append(label)\n",
    "        x_train,y_train = np.array(x_train).reshape(-1,3,32,32),np.array(y_train).reshape(-1,)\n",
    "        x_test,y_test = np.array(x_test).reshape(-1,3,32,32),np.array(y_test).reshape(-1,)\n",
    "        return x_train,y_train,x_test,y_test"
   ]
  },
  {
   "cell_type": "code",
   "execution_count": 17,
   "metadata": {},
   "outputs": [
    {
     "name": "stderr",
     "output_type": "stream",
     "text": [
      "Train-img: 100%|██████████| 5/5 [00:01<00:00,  2.75it/s]\n",
      "Test-img : 100%|██████████| 1/1 [00:00<00:00,  2.48it/s]\n",
      "Train: 100%|██████████| 5/5 [00:00<00:00, 39.38it/s]\n",
      "Test : 100%|██████████| 1/1 [00:00<00:00, 39.80it/s]\n"
     ]
    }
   ],
   "source": [
    "cif = CIFAR10()\n",
    "# 将CIFAR10数据集加载为图片数据\n",
    "train_img,test_img = cif.cif2img()\n",
    "# 将将CIFAR10数据集加载为多维数据用于训练\n",
    "x_train,y_train,x_test,y_test = cif.cif2data()"
   ]
  },
  {
   "cell_type": "code",
   "execution_count": 18,
   "metadata": {},
   "outputs": [
    {
     "data": {
      "image/png": "[encoded data removed]",
      "text/plain": [
       "<PIL.Image.Image image mode=RGB size=32x32 at 0x7F09341D1E10>"
      ]
     },
     "execution_count": 18,
     "metadata": {},
     "output_type": "execute_result"
    }
   ],
   "source": [
    "train_img[0][0]"
   ]
  },
  {
   "cell_type": "code",
   "execution_count": null,
   "metadata": {},
   "outputs": [],
   "source": [
    "class network(tf.keras.Model):\n",
    "    \n",
    "    def __init__(self):\n",
    "        \n",
    "        super(network,self).__init__(name='CIFAR-Model')\n",
    "        \n",
    "        self.MODEL_DIR = './models'\n",
    "        \n",
    "        self.learning_rate = 1e-4\n",
    "        self.optimizer = tf.keras.optimizers.Adam(learning_rate=self.learning_rate)\n",
    "        \n",
    "        self.conv2d1 = tf.keras.layers.Conv2D(kernel_size=(5,5),filters=100,activation='relu')\n",
    "        self.maxpool2d1 = tf.keras.layers.MaxPooling2D()\n",
    "        self.conv2d2 = tf.keras.layers.Conv2D(kernel_size=(3,3),filters=150,activation=='relu')\n",
    "        self.maxpool2d2 = tf.keras.layers.MaxPool2D()\n",
    "        self.conv2d3 = tf.keras.layers.Conv2D(kernel_size=(3,3),filters=250,padding='same',activation='relu')\n",
    "        self.maxpool2d3 = tf.keras.layers.MaxPool2D()\n",
    "        self.flatten = tf.keras.layers.Flatten()\n",
    "        self.dense1 = tf.keras.layers.Dense(512,activation='relu')\n",
    "        self.dense2 = tf.keras.layers.Dense(300,activation='relu')\n",
    "        self.predictions = tf.keras.layers.Dense(10,activation=='softmax')\n",
    "        \n",
    "    def call(self,inputs):\n",
    "        \n",
    "        x = self.conv2d1(inputs)\n",
    "        x = self.maxpool2d1(x)\n",
    "        x = self.conv2d2(x)\n",
    "        x = self.maxpool2d2(x)\n",
    "        x = self.conv2d3(x)\n",
    "        x = self.maxpool2d3(x)\n",
    "        x = self.flatten(x)\n",
    "        x = self.dense1(x)\n",
    "        x = self.dense2(x)\n",
    "        predictions = self.predictions(x)\n",
    "        \n",
    "        return predictions\n",
    "    \n",
    "    def pipline(self,x,y,shuffle_buffer_size=50000,batch_size = 64):\n",
    "        \n",
    "        dataset = tf.data.Dataset.from_tensor_slices((x,y))\n",
    "        # 设置一个和数据集大小一致的 shuffle buffer size（随机缓冲区大小）以保证数据\n",
    "        # 被充分打乱。\n",
    "        dataset = dataset.shuffle(50000).batch(64)\n",
    "        \n",
    "        return dataset\n",
    "    # 使用静态图转换器将该函数转为静态图显著提升计算速度\n",
    "    @tf.function\n",
    "    def trian(self,inputs,outputs):\n",
    "        \n",
    "        with tf.device('/GPU:0'):\n",
    "            with tf.GradientTape(persistent=False,watch_accessed_variables=True) as tape:\n",
    "                predictions = self.call(inputs)\n",
    "                loss = tf.keras.losses.SparseCategoricalCrossentropy(predictions,outputs)\n",
    "                accuracy = tf.keras.metrics.sparse_categorical_accuracy(predictions,outputs)\n",
    "                grads = tape.gradient(loss,self.train)\n",
    "                \n",
    "                \n",
    "        \n",
    "        \n",
    "        "
   ]
  },
  {
   "cell_type": "code",
   "execution_count": 19,
   "metadata": {},
   "outputs": [
    {
     "data": {
      "text/plain": [
       "(50000,)"
      ]
     },
     "execution_count": 19,
     "metadata": {},
     "output_type": "execute_result"
    }
   ],
   "source": [
    "y_train.shape"
   ]
  },
  {
   "cell_type": "code",
   "execution_count": null,
   "metadata": {},
   "outputs": [],
   "source": []
  }
 ],
 "metadata": {
  "kernelspec": {
   "display_name": "Python 3",
   "language": "python",
   "name": "python3"
  },
  "language_info": {
   "codemirror_mode": {
    "name": "ipython",
    "version": 3
   },
   "file_extension": ".py",
   "mimetype": "text/x-python",
   "name": "python",
   "nbconvert_exporter": "python",
   "pygments_lexer": "ipython3",
   "version": "3.7.4"
  }
 },
 "nbformat": 4,
 "nbformat_minor": 2
}
