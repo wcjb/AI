{
 "cells": [
  {
   "cell_type": "markdown",
   "metadata": {
    "heading_collapsed": true
   },
   "source": [
    "# 环境测试"
   ]
  },
  {
   "cell_type": "code",
   "execution_count": 1,
   "metadata": {
    "ExecuteTime": {
     "end_time": "2020-05-15T01:03:01.624164Z",
     "start_time": "2020-05-15T01:03:00.541528Z"
    },
    "hidden": true
   },
   "outputs": [],
   "source": [
    "import tensorflow  as tf\n",
    "# 使用RTX显卡时，似乎必须要制定限定显存，不然会报错\n",
    "gpu_devices = tf.config.experimental.list_physical_devices(\"GPU\")\n",
    "for device in gpu_devices:\n",
    "    tf.config.experimental.set_memory_growth(device, True)"
   ]
  },
  {
   "cell_type": "markdown",
   "metadata": {
    "hidden": true
   },
   "source": [
    "返回运行时可见的物理设备列表，默认情况下，所有发现的CPU和GPU设备都被视为可见的。"
   ]
  },
  {
   "cell_type": "code",
   "execution_count": 3,
   "metadata": {
    "ExecuteTime": {
     "end_time": "2020-05-13T14:02:09.681091Z",
     "start_time": "2020-05-13T14:02:09.674457Z"
    },
    "hidden": true
   },
   "outputs": [
    {
     "data": {
      "text/plain": [
       "[PhysicalDevice(name='/physical_device:CPU:0', device_type='CPU'),\n",
       " PhysicalDevice(name='/physical_device:XLA_CPU:0', device_type='XLA_CPU'),\n",
       " PhysicalDevice(name='/physical_device:GPU:0', device_type='GPU'),\n",
       " PhysicalDevice(name='/physical_device:XLA_GPU:0', device_type='XLA_GPU')]"
      ]
     },
     "execution_count": 3,
     "metadata": {},
     "output_type": "execute_result"
    }
   ],
   "source": [
    "tf.config.experimental.list_physical_devices(device_type=None)"
   ]
  },
  {
   "cell_type": "markdown",
   "metadata": {
    "hidden": true
   },
   "source": [
    "查看GPU设备信息"
   ]
  },
  {
   "cell_type": "code",
   "execution_count": 4,
   "metadata": {
    "ExecuteTime": {
     "end_time": "2020-05-13T14:02:15.125495Z",
     "start_time": "2020-05-13T14:02:14.993042Z"
    },
    "hidden": true,
    "scrolled": true
   },
   "outputs": [
    {
     "name": "stdout",
     "output_type": "stream",
     "text": [
      "Wed May 13 22:02:15 2020       \r\n",
      "+-----------------------------------------------------------------------------+\r\n",
      "| NVIDIA-SMI 440.64       Driver Version: 440.64       CUDA Version: 10.2     |\r\n",
      "|-------------------------------+----------------------+----------------------+\r\n",
      "| GPU  Name        Persistence-M| Bus-Id        Disp.A | Volatile Uncorr. ECC |\r\n",
      "| Fan  Temp  Perf  Pwr:Usage/Cap|         Memory-Usage | GPU-Util  Compute M. |\r\n",
      "|===============================+======================+======================|\r\n",
      "|   0  GeForce RTX 2070    Off  | 00000000:01:00.0  On |                  N/A |\r\n",
      "|  0%   47C    P8    20W / 175W |    165MiB /  7979MiB |      0%      Default |\r\n",
      "+-------------------------------+----------------------+----------------------+\r\n",
      "                                                                               \r\n",
      "+-----------------------------------------------------------------------------+\r\n",
      "| Processes:                                                       GPU Memory |\r\n",
      "|  GPU       PID   Type   Process name                             Usage      |\r\n",
      "|=============================================================================|\r\n",
      "|    0       937      G   /usr/lib/xorg/Xorg                            62MiB |\r\n",
      "|    0      1668      G   /usr/bin/gnome-shell                          89MiB |\r\n",
      "+-----------------------------------------------------------------------------+\r\n"
     ]
    }
   ],
   "source": [
    "!nvidia-smi"
   ]
  },
  {
   "cell_type": "markdown",
   "metadata": {
    "hidden": true
   },
   "source": [
    "检查GPU是否可用"
   ]
  },
  {
   "cell_type": "code",
   "execution_count": 5,
   "metadata": {
    "ExecuteTime": {
     "end_time": "2020-05-13T14:02:18.203932Z",
     "start_time": "2020-05-13T14:02:18.049602Z"
    },
    "hidden": true
   },
   "outputs": [
    {
     "data": {
      "text/plain": [
       "True"
      ]
     },
     "execution_count": 5,
     "metadata": {},
     "output_type": "execute_result"
    }
   ],
   "source": [
    "tf.test.is_gpu_available()"
   ]
  },
  {
   "cell_type": "markdown",
   "metadata": {
    "hidden": true
   },
   "source": [
    "查看GPU是否可用"
   ]
  },
  {
   "cell_type": "code",
   "execution_count": 7,
   "metadata": {
    "hidden": true
   },
   "outputs": [
    {
     "data": {
      "text/plain": [
       "[PhysicalDevice(name='/physical_device:GPU:0', device_type='GPU')]"
      ]
     },
     "execution_count": 7,
     "metadata": {},
     "output_type": "execute_result"
    }
   ],
   "source": [
    "tf.config.experimental.list_physical_devices('GPU')"
   ]
  },
  {
   "cell_type": "code",
   "execution_count": 6,
   "metadata": {
    "ExecuteTime": {
     "end_time": "2020-05-13T14:02:51.285178Z",
     "start_time": "2020-05-13T14:02:51.279311Z"
    },
    "hidden": true
   },
   "outputs": [],
   "source": [
    "# 启用设备放置日志记录将导致打印任何张量分配或操作\n",
    "tf.debugging.set_log_device_placement(True)"
   ]
  },
  {
   "cell_type": "code",
   "execution_count": 6,
   "metadata": {
    "ExecuteTime": {
     "end_time": "2020-05-13T09:16:46.843931Z",
     "start_time": "2020-05-13T09:16:46.776799Z"
    },
    "hidden": true
   },
   "outputs": [
    {
     "data": {
      "text/plain": [
       "VirtualDeviceConfiguration(memory_limit=1024)"
      ]
     },
     "execution_count": 6,
     "metadata": {},
     "output_type": "execute_result"
    }
   ],
   "source": [
    "tf.config.experimental.VirtualDeviceConfiguration(memory_limit=1024)"
   ]
  },
  {
   "cell_type": "markdown",
   "metadata": {},
   "source": [
    "# 数据处理"
   ]
  },
  {
   "cell_type": "markdown",
   "metadata": {},
   "source": [
    "## 数据载入"
   ]
  },
  {
   "cell_type": "markdown",
   "metadata": {},
   "source": [
    "+ CIFAR-10数据集\n",
    "\n",
    "&emsp;&emsp;CIFAR-10数据集是一个用于识别普适物体的小型数据集，它一共包含10个类别的RGB彩色图片：飞机（airplane）、汽车（automobile）、鸟类（bird）、猫（cat）、鹿（deer）、狗（dog）、蛙类（frog）、马（horse）、船（ship）和卡车（truck）。图片的尺寸为32x32，该数据集一共有50000张训练图片和10000张测试图片。"
   ]
  },
  {
   "cell_type": "markdown",
   "metadata": {},
   "source": [
    "&emsp;&emsp;1个10000x3072大小的uint8s数组。数组的每行存储1张32*32的图像,第1个1024包含红色通道值，下1个包含绿色，最后的1024包含蓝色。图像存储以行顺序为主，所以数组的前32列为图像第1行的红色通道值。"
   ]
  },
  {
   "cell_type": "code",
   "execution_count": 2,
   "metadata": {
    "ExecuteTime": {
     "end_time": "2020-05-15T01:03:05.100259Z",
     "start_time": "2020-05-15T01:03:05.083041Z"
    }
   },
   "outputs": [],
   "source": [
    "import pickle\n",
    "import os\n",
    "from PIL import Image\n",
    "from tqdm import tqdm\n",
    "import numpy as np\n",
    "class CIFAR10(object):\n",
    "    \n",
    "    def __init__(self,path='/home/wcjb/Code/Dataset/cifar-10-batches-py/'):\n",
    "        self.trainpath = [os.path.join(path,'data_batch_'+str(i+1)) for i in range(5)]\n",
    "        self.testpath = [os.path.join(path,'test_batch')]\n",
    "    \n",
    "    def unpickle(self,file):\n",
    "        with open(file, 'rb') as fo:\n",
    "            dict = pickle.load(fo, encoding = 'iso-8859-1') # \n",
    "        return dict\n",
    "    \n",
    "    def load_batch(self,file):\n",
    "        \n",
    "        with open(file, 'rb')as f:\n",
    "            datadict = self.unpickle(file)\n",
    "            data = datadict['data']\n",
    "            label = datadict['labels']\n",
    "            data = data.reshape(10000, 3, 32, 32)\n",
    "            label = np.array(label)\n",
    "            return data,label\n",
    "        \n",
    "    def toimg(self,data):\n",
    "        img = []\n",
    "        for i in range(data.shape[0]):\n",
    "            imgs = data[i - 1]\n",
    "            r = imgs[0]\n",
    "            g = imgs[1]\n",
    "            b = imgs[2]\n",
    "            R = Image.fromarray(r)\n",
    "            G = Image.fromarray(g)\n",
    "            B = Image.fromarray(b)\n",
    "            \n",
    "            img.append(Image.merge(\"RGB\",(R,G,B)))\n",
    "        return img\n",
    "            \n",
    "        \n",
    "    def cif2img(self):\n",
    "        \n",
    "        train_img,test_img = [],[]\n",
    "    \n",
    "        for tp in tqdm(self.trainpath,desc='Train-img'):\n",
    "            \n",
    "            data,label = self.load_batch(tp)\n",
    "            train_img.append(self.toimg(data))\n",
    "            \n",
    "        for tp in tqdm(self.testpath,desc='Test-img '):\n",
    "            \n",
    "            data,label = self.load_batch(tp)\n",
    "            test_img.append(self.toimg(data))\n",
    "            \n",
    "            \n",
    "        return train_img,test_img\n",
    "        \n",
    "    def cif2data(self):\n",
    "        \n",
    "        x_train,y_train,x_test,y_test = [],[],[],[]\n",
    "        for tp in tqdm(self.trainpath,desc='Train'):\n",
    "            data,label = self.load_batch(tp)\n",
    "            x_train.append(data)\n",
    "            y_train.append(label)\n",
    "        for tp in tqdm(self.testpath,desc='Test '):\n",
    "            data,label = self.load_batch(tp)\n",
    "            x_test.append(data)\n",
    "            y_test.append(label)\n",
    "        x_train,y_train = np.array(x_train).reshape(-1,3,32,32),np.array(y_train).reshape(-1,)\n",
    "        x_test,y_test = np.array(x_test).reshape(-1,3,32,32),np.array(y_test).reshape(-1,)\n",
    "        x_train,x_test = np.rollaxis(x_train, 1,4),np.rollaxis(x_test,1, 4)\n",
    "        \n",
    "        return x_train,y_train,x_test,y_test"
   ]
  },
  {
   "cell_type": "code",
   "execution_count": 3,
   "metadata": {
    "ExecuteTime": {
     "end_time": "2020-05-15T01:03:09.440055Z",
     "start_time": "2020-05-15T01:03:07.136341Z"
    }
   },
   "outputs": [
    {
     "name": "stderr",
     "output_type": "stream",
     "text": [
      "Train-img: 100%|██████████| 5/5 [00:01<00:00,  2.85it/s]\n",
      "Test-img : 100%|██████████| 1/1 [00:00<00:00,  2.94it/s]\n",
      "Train: 100%|██████████| 5/5 [00:00<00:00, 40.73it/s]\n",
      "Test : 100%|██████████| 1/1 [00:00<00:00, 40.69it/s]\n"
     ]
    }
   ],
   "source": [
    "cif = CIFAR10()\n",
    "# 将CIFAR10数据集加载为图片数据\n",
    "train_img,test_img = cif.cif2img()\n",
    "# 将将CIFAR10数据集加载为多维数据用于训练\n",
    "x_train,y_train,x_test,y_test = cif.cif2data()"
   ]
  },
  {
   "cell_type": "markdown",
   "metadata": {},
   "source": [
    "## 特征工程"
   ]
  },
  {
   "cell_type": "markdown",
   "metadata": {},
   "source": [
    "### 查看数据集样本的图片"
   ]
  },
  {
   "cell_type": "code",
   "execution_count": 4,
   "metadata": {
    "ExecuteTime": {
     "end_time": "2020-05-14T07:46:45.809289Z",
     "start_time": "2020-05-14T07:46:45.651559Z"
    }
   },
   "outputs": [
    {
     "data": {
      "text/plain": [
       "<matplotlib.image.AxesImage at 0x7fd66b7dc1d0>"
      ]
     },
     "execution_count": 4,
     "metadata": {},
     "output_type": "execute_result"
    },
    {
     "data": {
      "image/png": "[encoded data removed]",
      "text/plain": [
       "<Figure size 432x288 with 1 Axes>"
      ]
     },
     "metadata": {
      "needs_background": "light"
     },
     "output_type": "display_data"
    }
   ],
   "source": [
    "import matplotlib.pyplot as plt\n",
    "%matplotlib inline\n",
    "plt.imshow(train_img[0][0])"
   ]
  },
  {
   "cell_type": "code",
   "execution_count": 19,
   "metadata": {
    "ExecuteTime": {
     "end_time": "2020-05-14T05:36:44.364391Z",
     "start_time": "2020-05-14T05:36:44.260049Z"
    }
   },
   "outputs": [
    {
     "data": {
      "text/plain": [
       "<matplotlib.image.AxesImage at 0x7fcdcca17750>"
      ]
     },
     "execution_count": 19,
     "metadata": {},
     "output_type": "execute_result"
    },
    {
     "data": {
      "image/png": "[encoded data removed]",
      "text/plain": [
       "<Figure size 432x288 with 1 Axes>"
      ]
     },
     "metadata": {
      "needs_background": "light"
     },
     "output_type": "display_data"
    }
   ],
   "source": [
    "plt.imshow(test_img[0][0])"
   ]
  },
  {
   "cell_type": "markdown",
   "metadata": {},
   "source": [
    "### 查看数据集的样本的数组形态"
   ]
  },
  {
   "cell_type": "code",
   "execution_count": 20,
   "metadata": {
    "ExecuteTime": {
     "end_time": "2020-05-14T05:36:46.585365Z",
     "start_time": "2020-05-14T05:36:46.580138Z"
    }
   },
   "outputs": [
    {
     "data": {
      "text/plain": [
       "(50000, 32, 32, 3)"
      ]
     },
     "execution_count": 20,
     "metadata": {},
     "output_type": "execute_result"
    }
   ],
   "source": [
    "x_train.shape"
   ]
  },
  {
   "cell_type": "markdown",
   "metadata": {},
   "source": [
    "### 数据增强处理函数\n",
    "\n",
    "+ 直方图均衡化\n",
    "\n",
    "&emsp;&emsp;直方图均衡化通常用来增加许多图像的全局对比度，尤其是当图像的有用数据的对比度相当接近的时候。通过这种方法，亮度可以更好地在直方图上分布。这样就可以用于增强局部的对比度而不影响整体的对比度，直方图均衡化通过有效地扩展常用的亮度来实现这种功能。这种方法对于背景和前景都太亮或者太暗的图像非常有用，这种方法尤其是可以带来X光图像中更好的骨骼结构显示以及曝光过度或者曝光不足照片中更好的细节。这种方法的一个主要优势是它是一个相当直观的技术并且是可逆操作，如果已知均衡化函数，那么就可以恢复原始的直方图，并且计算量也不大。这种方法的一个缺点是它对处理的数据不加选择，它可能会增加背景噪声的对比度并且降低有用信号的对比度。"
   ]
  },
  {
   "cell_type": "code",
   "execution_count": 4,
   "metadata": {
    "ExecuteTime": {
     "end_time": "2020-05-15T01:03:12.410173Z",
     "start_time": "2020-05-15T01:03:12.369894Z"
    }
   },
   "outputs": [],
   "source": [
    "import shutil\n",
    "from PIL import Image\n",
    "import sys\n",
    "import cv2\n",
    "from tqdm import notebook\n",
    "class DataAugumentation(object):\n",
    "    \n",
    "    def __init__(self,num=10):\n",
    "        \n",
    "        self.num = num\n",
    "\n",
    "    def CLAHE(self,img):\n",
    "        grayimg = cv2.cvtColor(img, cv2.COLOR_BGR2GRAY)\n",
    "        # 局部直方图均值化\n",
    "        clahe = cv2.createCLAHE(clipLimit=2.0, tileGridSize=(8,8))\n",
    "        cl1 = clahe.apply(grayimg)\n",
    "        return cl1\n",
    "\n",
    "    def Histograms_Equalization(self,img):\n",
    "        \n",
    "        grayimg = cv2.cvtColor(img, cv2.COLOR_BGR2GRAY)\n",
    "        # 直方图均值化\n",
    "        equ = cv2.equalizeHist(grayimg)\n",
    "        return equ\n",
    "\n",
    "    def make_one_hot(self,data):\n",
    "        return (np.arange(self.num)==data[:,None]).astype(np.int64)\n",
    "    \n",
    "    def augument(self,imgs,labels):\n",
    "        '''\n",
    "        使用图像处理方法进行数据增强，直方图均值化和局部直方图均值化\n",
    "        再加上灰度图和原图片可以将数据集增大三倍\n",
    "        '''\n",
    "        x_data,y_data = [],[]\n",
    "        \n",
    "        for img,label in notebook.tqdm(zip(imgs,labels),desc='数据增强进度'):\n",
    "            \n",
    "            imggray = cv2.cvtColor(img, cv2.COLOR_BGR2GRAY)\n",
    "            x_data.append(imggray.astype('float32') / 255.0)\n",
    "            y_data.append(label)\n",
    "\n",
    "            he_image = self.Histograms_Equalization(img)\n",
    "            x_data.append(he_image.astype('float32') / 255.0)\n",
    "            y_data.append(label)\n",
    "\n",
    "            clahe_img = self.CLAHE(img)\n",
    "            x_data.append(clahe_img.astype('float32') / 255.0)\n",
    "            y_data.append(label)\n",
    "            \n",
    "    \n",
    "        \n",
    "        return np.array(x_data),np.array(y_data)"
   ]
  },
  {
   "cell_type": "markdown",
   "metadata": {},
   "source": [
    "### 处理训练集"
   ]
  },
  {
   "cell_type": "code",
   "execution_count": 5,
   "metadata": {
    "ExecuteTime": {
     "end_time": "2020-05-15T01:03:18.232385Z",
     "start_time": "2020-05-15T01:03:14.077194Z"
    }
   },
   "outputs": [
    {
     "data": {
      "application/vnd.jupyter.widget-view+json": {
       "model_id": "b5ef7c847cc044e3a4ea7142c5317408",
       "version_major": 2,
       "version_minor": 0
      },
      "text/plain": [
       "HBox(children=(FloatProgress(value=1.0, bar_style='info', description='数据增强进度', max=1.0, style=ProgressStyle(d…"
      ]
     },
     "metadata": {},
     "output_type": "display_data"
    },
    {
     "name": "stdout",
     "output_type": "stream",
     "text": [
      "\n"
     ]
    },
    {
     "data": {
      "application/vnd.jupyter.widget-view+json": {
       "model_id": "c582a3191ad94710b2b0ef25d0b2e87b",
       "version_major": 2,
       "version_minor": 0
      },
      "text/plain": [
       "HBox(children=(FloatProgress(value=1.0, bar_style='info', description='数据增强进度', max=1.0, style=ProgressStyle(d…"
      ]
     },
     "metadata": {},
     "output_type": "display_data"
    },
    {
     "name": "stdout",
     "output_type": "stream",
     "text": [
      "\n"
     ]
    }
   ],
   "source": [
    "da = DataAugumentation()\n",
    "x_new_train,y_new_train = da.augument(x_train,y_train)\n",
    "x_new_test,y_new_test = da.augument(x_test,y_test)"
   ]
  },
  {
   "cell_type": "markdown",
   "metadata": {},
   "source": [
    "+ 扩展数据维度，计算卷积"
   ]
  },
  {
   "cell_type": "code",
   "execution_count": 6,
   "metadata": {
    "ExecuteTime": {
     "end_time": "2020-05-15T01:03:20.629928Z",
     "start_time": "2020-05-15T01:03:20.624638Z"
    }
   },
   "outputs": [],
   "source": [
    "x_new_train = np.expand_dims(x_new_train, 3)\n",
    "x_new_test = np.expand_dims(x_new_test,3)"
   ]
  },
  {
   "cell_type": "markdown",
   "metadata": {},
   "source": [
    "可以看到，数据集增强之后比较大，所以可以把增强后的数据集保存在本地方便再次复用。"
   ]
  },
  {
   "cell_type": "code",
   "execution_count": 7,
   "metadata": {
    "ExecuteTime": {
     "end_time": "2020-05-15T01:03:24.817556Z",
     "start_time": "2020-05-15T01:03:22.120208Z"
    }
   },
   "outputs": [],
   "source": [
    "pickle.dump(x_new_train, open('./CifaData/x_new_train.p', 'wb'))\n",
    "pickle.dump(y_new_train, open('./CifaData/y_new_train.p', 'wb'))\n",
    "pickle.dump(x_new_test, open('./CifaData/x_new_test.p', 'wb'))\n",
    "pickle.dump(y_new_test, open('./CifaData/y_new_test.p', 'wb'))"
   ]
  },
  {
   "cell_type": "code",
   "execution_count": 8,
   "metadata": {
    "ExecuteTime": {
     "end_time": "2020-05-15T01:03:26.908912Z",
     "start_time": "2020-05-15T01:03:26.776185Z"
    },
    "scrolled": true
   },
   "outputs": [
    {
     "name": "stdout",
     "output_type": "stream",
     "text": [
      "总用量 705M\r\n",
      "-rw-rw-r-- 1 wcjb wcjb 118M 5月  15 09:03 x_new_test.p\r\n",
      "-rw-rw-r-- 1 wcjb wcjb 586M 5月  15 09:03 x_new_train.p\r\n",
      "-rw-rw-r-- 1 wcjb wcjb 235K 5月  15 09:03 y_new_test.p\r\n",
      "-rw-rw-r-- 1 wcjb wcjb 1.2M 5月  15 09:03 y_new_train.p\r\n"
     ]
    }
   ],
   "source": [
    "!cd CifaData && ls -hl"
   ]
  },
  {
   "cell_type": "code",
   "execution_count": 29,
   "metadata": {
    "ExecuteTime": {
     "end_time": "2020-05-14T08:46:01.938054Z",
     "start_time": "2020-05-14T08:46:01.918327Z"
    }
   },
   "outputs": [],
   "source": [
    "# with open('./CifaData/y_new_train.p', 'rb') as fo:\n",
    "#     y_n_train = pickle.load(fo, encoding = 'iso-8859-1')"
   ]
  },
  {
   "cell_type": "markdown",
   "metadata": {},
   "source": [
    "# 搭建模型"
   ]
  },
  {
   "cell_type": "code",
   "execution_count": 22,
   "metadata": {
    "ExecuteTime": {
     "end_time": "2020-05-15T01:23:16.998522Z",
     "start_time": "2020-05-15T01:23:16.967695Z"
    }
   },
   "outputs": [],
   "source": [
    "import tensorflow as tf\n",
    "import datetime\n",
    "\n",
    "from tensorflow.python.ops import summary_ops_v2\n",
    "import time\n",
    "\n",
    "MODEL_DIR = \"./models\"\n",
    "\n",
    "class network(tf.keras.Model):\n",
    "    \n",
    "    def __init__(self,n_class=10):\n",
    "        \n",
    "        super(network,self).__init__()\n",
    "        \n",
    "        self.conv2d_01 = tf.keras.layers.Convolution2D (kernel_size = (5, 5),input_shape=(32,32,1), filters = 100, activation='relu')\n",
    "        self.maxpool2d_01 = tf.keras.layers.MaxPool2D()\n",
    "        self.conv2d_02 = tf.keras.layers.Convolution2D (kernel_size = (3, 3), filters = 150, activation='relu')\n",
    "        self.maxpool2d_02 = tf.keras.layers.MaxPool2D()\n",
    "        self.conv2d_03 = tf.keras.layers.Convolution2D (kernel_size = (3, 3), filters = 250, padding='same', activation='relu')\n",
    "        self.maxpool2d_03 = tf.keras.layers.MaxPool2D()\n",
    "        self.flatten = tf.keras.layers.Flatten()\n",
    "        self.dense_01 = tf.keras.layers.Dense(512, activation='relu')\n",
    "        self.dense_02 = tf.keras.layers.Dense(300, activation='relu')\n",
    "        self.dense_03 = tf.keras.layers.Dense(10,activation='softmax') \n",
    "        self.optimizer = tf.optimizers.Adam(learning_rate=1e-4)\n",
    "\n",
    "        if not tf.io.gfile.exists(MODEL_DIR):\n",
    "            tf.io.gfile.makedirs(MODEL_DIR)\n",
    "        \n",
    "        train_dir = os.path.join(MODEL_DIR, 'summaries', 'train')\n",
    "        test_dir = os.path.join(MODEL_DIR, 'summaries', 'eval')\n",
    "\n",
    "        self.train_summary_writer = summary_ops_v2.create_file_writer(train_dir, flush_millis=10000)\n",
    "        self.test_summary_writer = summary_ops_v2.create_file_writer(test_dir, flush_millis=10000, name='test')\n",
    "        \n",
    "        checkpoint_dir = os.path.join(MODEL_DIR, 'checkpoints')\n",
    "        self.checkpoint_prefix = os.path.join(checkpoint_dir, 'ckpt')\n",
    "        self.checkpoint = tf.train.Checkpoint(model=self, optimizer=self.optimizer)  \n",
    "\n",
    "        # 如果存在检查点，则在创建时还原变量\n",
    "        self.checkpoint.restore(tf.train.latest_checkpoint(checkpoint_dir))\n",
    "        \n",
    "    def call(self,inputs):\n",
    "        \n",
    "        x = self.conv2d_01(inputs)\n",
    "        x = self.maxpool2d_01(x)\n",
    "        \n",
    "        x = self.conv2d_02(x)\n",
    "        x = self.maxpool2d_02(x)\n",
    "        \n",
    "        x = self.conv2d_03(x)\n",
    "        x = self.maxpool2d_03(x)\n",
    "        \n",
    "        x = self.flatten(x)\n",
    "      \n",
    "        x = self.dense_01(x)\n",
    "        x = self.dense_02(x)\n",
    "        x = self.dense_03(x)\n",
    "        \n",
    "        return x\n",
    "        \n",
    "    @tf.function()\n",
    "    def compute_loss(self, logits, labels):\n",
    "        return tf.reduce_mean(tf.keras.losses.sparse_categorical_crossentropy(labels, logits, from_logits=True))\n",
    "\n",
    "    @tf.function()\n",
    "    def compute_accuracy(self, logits, labels):\n",
    "        return tf.keras.metrics.sparse_categorical_accuracy(labels, logits)\n",
    "    \n",
    "    @tf.function(experimental_relax_shapes=True)\n",
    "    def train_step(self, images, labels):\n",
    "        \n",
    "        with tf.device('/GPU:0'):\n",
    "            with tf.GradientTape() as tape:\n",
    "                logits = self.call(images)\n",
    "                loss = self.compute_loss(logits, labels)\n",
    "                accuracy = self.compute_accuracy(logits, labels)\n",
    "            grads = tape.gradient(loss, self.trainable_variables)\n",
    "            self.optimizer.apply_gradients(zip(grads, self.trainable_variables))\n",
    "        return loss, accuracy, logits\n",
    "\n",
    "    def training(self, train_dataset, test_dataset, epochs=1, log_freq=50):\n",
    "\n",
    "        for i in range(epochs):\n",
    "            train_start = time.time()\n",
    "            with self.train_summary_writer.as_default():\n",
    "                start = time.time()\n",
    "                # Metrics are stateful. They accumulate values and return a cumulative\n",
    "                # result when you call .result(). Clear accumulated values with .reset_states()\n",
    "                avg_loss = tf.keras.metrics.Mean('loss', dtype=tf.float32)  \n",
    "                avg_accuracy = tf.keras.metrics.Mean('accuracy', dtype=tf.float32)  \n",
    "\n",
    "                # Datasets can be iterated over like any other Python iterable.\n",
    "                for images, labels in train_dataset:\n",
    "                    \n",
    "                    loss, accuracy, logits = self.train_step(images, labels)\n",
    "                    avg_loss(loss)\n",
    "                    avg_accuracy(accuracy)\n",
    "\n",
    "                    if tf.equal(self.optimizer.iterations % log_freq, 0):\n",
    "                        summary_ops_v2.scalar('loss', avg_loss.result(), step=self.optimizer.iterations)\n",
    "                        summary_ops_v2.scalar('accuracy', avg_accuracy.result(), step=self.optimizer.iterations)\n",
    "                        \n",
    "                        rate = log_freq / (time.time() - start)\n",
    "                        print('Step #{}\\tLoss: {:0.6f} accuracy: {:0.2f}% ({} steps/sec)'.format(self.optimizer.iterations.numpy(), loss, (avg_accuracy.result() * 100), rate))\n",
    "                        avg_loss.reset_states()\n",
    "                        avg_accuracy.reset_states()\n",
    "                        start = time.time()\n",
    "\n",
    "            train_end = time.time()\n",
    "            print('\\nTrain time for epoch #{} ({} total steps): {}'.format(i + 1, self.optimizer.iterations.numpy(), train_end - train_start))\n",
    "            with self.test_summary_writer.as_default():\n",
    "                self.testing(test_dataset, self.optimizer.iterations)\n",
    "            self.checkpoint.save(self.checkpoint_prefix)\n",
    "        self.export_path = os.path.join(MODEL_DIR, 'export')\n",
    "        #tf.saved_model.save(self, self.export_path)\n",
    "        \n",
    "    \n",
    "    def testing(self, test_dataset, step_num):\n",
    "        \"\"\"Perform an evaluation of `model` on the examples from `dataset`.\"\"\"\n",
    "        avg_loss = tf.keras.metrics.Mean('loss', dtype=tf.float32)\n",
    "        avg_accuracy = tf.keras.metrics.Mean('accuracy', dtype=tf.float32)\n",
    "\n",
    "        for (images, labels) in test_dataset:\n",
    "            logits = self.call(images)\n",
    "            avg_loss(self.compute_loss(logits, labels))\n",
    "            avg_accuracy(self.compute_accuracy(logits, labels))\n",
    "\n",
    "        print('Model test set loss: {:0.4f} accuracy: {:0.2f}%'.format(avg_loss.result(), avg_accuracy.result() * 100))\n",
    "        summary_ops_v2.scalar('loss', avg_loss.result(), step=step_num)\n",
    "        summary_ops_v2.scalar('accuracy', avg_accuracy.result(), step=step_num)\n",
    "            \n",
    "    def evaluating(self, test_dataset):\n",
    "#         restored_model = tf.saved_model.restore(self.export_path)\n",
    "#         y_predict = restored_model(x_test)\n",
    "        avg_accuracy = tf.keras.metrics.Mean('accuracy', dtype=tf.float32)\n",
    "\n",
    "        for (images, labels) in test_dataset:\n",
    "            logits = self.call(images)\n",
    "            avg_accuracy(self.compute_accuracy(logits, labels))\n",
    "\n",
    "        print('Model accuracy: {:0.2f}%'.format(avg_accuracy.result() * 100))\n",
    "\n",
    "    def forward(self, xs):  \n",
    "        predictions = self.model(xs)\n",
    "        logits = tf.nn.softmax(predictions)\n",
    "\n",
    "        return logits\n",
    "    "
   ]
  },
  {
   "cell_type": "code",
   "execution_count": 28,
   "metadata": {
    "ExecuteTime": {
     "end_time": "2020-05-15T01:25:07.110026Z",
     "start_time": "2020-05-15T01:25:06.530548Z"
    }
   },
   "outputs": [],
   "source": [
    "val_dataset = tf.data.Dataset.from_tensor_slices((x_new_test.astype(np.float32), y_new_test))\n",
    "val_dataset = val_dataset.shuffle(10000).batch(640)\n",
    "\n",
    "dataset = tf.data.Dataset.from_tensor_slices((x_new_train.astype(np.float32), y_new_train))\n",
    "dataset = dataset.shuffle(1000).batch(640)  # .shuffle(len(train_xs))\n",
    "        "
   ]
  },
  {
   "cell_type": "code",
   "execution_count": 30,
   "metadata": {
    "ExecuteTime": {
     "end_time": "2020-05-15T01:26:00.805351Z",
     "start_time": "2020-05-15T01:25:49.280382Z"
    },
    "scrolled": true
   },
   "outputs": [
    {
     "name": "stdout",
     "output_type": "stream",
     "text": [
      "Step #37750\tLoss: 1.635083 accuracy: 80.03% (47.73610244877334 steps/sec)\n",
      "Step #37800\tLoss: 1.662184 accuracy: 79.86% (23.883972169046178 steps/sec)\n",
      "Step #37850\tLoss: 1.651432 accuracy: 79.77% (23.889010837671186 steps/sec)\n",
      "Step #37900\tLoss: 1.666890 accuracy: 80.96% (24.054509509387806 steps/sec)\n",
      "Step #37950\tLoss: 1.649743 accuracy: 81.50% (23.856509118566446 steps/sec)\n",
      "\n",
      "Train time for epoch #1 (37974 total steps): 10.556878089904785\n",
      "Model test set loss: 1.7757 accuracy: 68.37%\n"
     ]
    }
   ],
   "source": [
    "net = network()\n",
    "net.training(dataset, val_dataset)\n",
    "# 需要注意的是save_model不能在tf.function装饰的函数内执行\n",
    "\n",
    "#tf.keras.models.save_model(net,net.export_path)"
   ]
  },
  {
   "cell_type": "code",
   "execution_count": 32,
   "metadata": {
    "ExecuteTime": {
     "end_time": "2020-05-15T01:26:53.279573Z",
     "start_time": "2020-05-15T01:26:53.109925Z"
    }
   },
   "outputs": [
    {
     "name": "stdout",
     "output_type": "stream",
     "text": [
      "总用量 368M\r\n",
      "-rw-rw-r-- 1 wcjb wcjb   71 5月  15 09:26 checkpoint\r\n",
      "-rw-rw-r-- 1 wcjb wcjb 5.0K 5月  15 07:21 ckpt-10.data-00000-of-00002\r\n",
      "-rw-rw-r-- 1 wcjb wcjb  21M 5月  15 07:21 ckpt-10.data-00001-of-00002\r\n",
      "-rw-rw-r-- 1 wcjb wcjb 3.0K 5月  15 07:21 ckpt-10.index\r\n",
      "-rw-rw-r-- 1 wcjb wcjb 5.0K 5月  15 09:04 ckpt-11.data-00000-of-00002\r\n",
      "-rw-rw-r-- 1 wcjb wcjb  21M 5月  15 09:04 ckpt-11.data-00001-of-00002\r\n",
      "-rw-rw-r-- 1 wcjb wcjb 3.0K 5月  15 09:04 ckpt-11.index\r\n",
      "-rw-rw-r-- 1 wcjb wcjb 5.0K 5月  15 09:08 ckpt-12.data-00000-of-00002\r\n",
      "-rw-rw-r-- 1 wcjb wcjb  21M 5月  15 09:08 ckpt-12.data-00001-of-00002\r\n",
      "-rw-rw-r-- 1 wcjb wcjb 3.0K 5月  15 09:08 ckpt-12.index\r\n",
      "-rw-rw-r-- 1 wcjb wcjb 5.0K 5月  15 09:15 ckpt-13.data-00000-of-00002\r\n",
      "-rw-rw-r-- 1 wcjb wcjb  21M 5月  15 09:15 ckpt-13.data-00001-of-00002\r\n",
      "-rw-rw-r-- 1 wcjb wcjb 3.0K 5月  15 09:15 ckpt-13.index\r\n",
      "-rw-rw-r-- 1 wcjb wcjb 5.0K 5月  15 09:17 ckpt-14.data-00000-of-00002\r\n",
      "-rw-rw-r-- 1 wcjb wcjb  21M 5月  15 09:17 ckpt-14.data-00001-of-00002\r\n",
      "-rw-rw-r-- 1 wcjb wcjb 3.0K 5月  15 09:17 ckpt-14.index\r\n",
      "-rw-rw-r-- 1 wcjb wcjb  21M 5月  15 09:21 ckpt-15.data-00000-of-00001\r\n",
      "-rw-rw-r-- 1 wcjb wcjb 2.9K 5月  15 09:21 ckpt-15.index\r\n",
      "-rw-rw-r-- 1 wcjb wcjb 5.0K 5月  15 09:23 ckpt-16.data-00000-of-00002\r\n",
      "-rw-rw-r-- 1 wcjb wcjb  21M 5月  15 09:23 ckpt-16.data-00001-of-00002\r\n",
      "-rw-rw-r-- 1 wcjb wcjb 3.0K 5月  15 09:23 ckpt-16.index\r\n",
      "-rw-rw-r-- 1 wcjb wcjb 5.0K 5月  15 09:25 ckpt-17.data-00000-of-00002\r\n",
      "-rw-rw-r-- 1 wcjb wcjb  21M 5月  15 09:25 ckpt-17.data-00001-of-00002\r\n",
      "-rw-rw-r-- 1 wcjb wcjb 3.0K 5月  15 09:25 ckpt-17.index\r\n",
      "-rw-rw-r-- 1 wcjb wcjb 5.0K 5月  15 09:26 ckpt-18.data-00000-of-00002\r\n",
      "-rw-rw-r-- 1 wcjb wcjb  21M 5月  15 09:26 ckpt-18.data-00001-of-00002\r\n",
      "-rw-rw-r-- 1 wcjb wcjb 3.0K 5月  15 09:26 ckpt-18.index\r\n",
      "-rw-rw-r-- 1 wcjb wcjb 5.5K 5月  15 00:18 ckpt-1.data-00000-of-00002\r\n",
      "-rw-rw-r-- 1 wcjb wcjb  21M 5月  15 00:18 ckpt-1.data-00001-of-00002\r\n",
      "-rw-rw-r-- 1 wcjb wcjb 3.0K 5月  15 00:18 ckpt-1.index\r\n",
      "-rw-rw-r-- 1 wcjb wcjb 5.0K 5月  15 06:51 ckpt-2.data-00000-of-00002\r\n",
      "-rw-rw-r-- 1 wcjb wcjb  21M 5月  15 06:51 ckpt-2.data-00001-of-00002\r\n",
      "-rw-rw-r-- 1 wcjb wcjb 3.0K 5月  15 06:51 ckpt-2.index\r\n",
      "-rw-rw-r-- 1 wcjb wcjb 5.0K 5月  15 06:52 ckpt-3.data-00000-of-00002\r\n",
      "-rw-rw-r-- 1 wcjb wcjb  21M 5月  15 06:52 ckpt-3.data-00001-of-00002\r\n",
      "-rw-rw-r-- 1 wcjb wcjb 3.0K 5月  15 06:52 ckpt-3.index\r\n",
      "-rw-rw-r-- 1 wcjb wcjb 5.0K 5月  15 06:57 ckpt-4.data-00000-of-00002\r\n",
      "-rw-rw-r-- 1 wcjb wcjb  21M 5月  15 06:57 ckpt-4.data-00001-of-00002\r\n",
      "-rw-rw-r-- 1 wcjb wcjb 3.0K 5月  15 06:57 ckpt-4.index\r\n",
      "-rw-rw-r-- 1 wcjb wcjb 5.0K 5月  15 07:03 ckpt-5.data-00000-of-00002\r\n",
      "-rw-rw-r-- 1 wcjb wcjb  21M 5月  15 07:03 ckpt-5.data-00001-of-00002\r\n",
      "-rw-rw-r-- 1 wcjb wcjb 3.0K 5月  15 07:03 ckpt-5.index\r\n",
      "-rw-rw-r-- 1 wcjb wcjb 5.0K 5月  15 07:05 ckpt-6.data-00000-of-00002\r\n",
      "-rw-rw-r-- 1 wcjb wcjb  21M 5月  15 07:05 ckpt-6.data-00001-of-00002\r\n",
      "-rw-rw-r-- 1 wcjb wcjb 3.0K 5月  15 07:05 ckpt-6.index\r\n",
      "-rw-rw-r-- 1 wcjb wcjb 5.0K 5月  15 07:10 ckpt-7.data-00000-of-00002\r\n",
      "-rw-rw-r-- 1 wcjb wcjb  21M 5月  15 07:10 ckpt-7.data-00001-of-00002\r\n",
      "-rw-rw-r-- 1 wcjb wcjb 3.0K 5月  15 07:10 ckpt-7.index\r\n",
      "-rw-rw-r-- 1 wcjb wcjb 5.0K 5月  15 07:13 ckpt-8.data-00000-of-00002\r\n",
      "-rw-rw-r-- 1 wcjb wcjb  21M 5月  15 07:13 ckpt-8.data-00001-of-00002\r\n",
      "-rw-rw-r-- 1 wcjb wcjb 3.0K 5月  15 07:13 ckpt-8.index\r\n",
      "-rw-rw-r-- 1 wcjb wcjb 5.0K 5月  15 07:13 ckpt-9.data-00000-of-00002\r\n",
      "-rw-rw-r-- 1 wcjb wcjb  21M 5月  15 07:13 ckpt-9.data-00001-of-00002\r\n",
      "-rw-rw-r-- 1 wcjb wcjb 3.0K 5月  15 07:13 ckpt-9.index\r\n"
     ]
    }
   ],
   "source": [
    "!cd models/checkpoints/ && ls -lh"
   ]
  },
  {
   "cell_type": "markdown",
   "metadata": {},
   "source": [
    "GPU tf.float32 24.5s\n",
    "\n",
    "CPU tf.float32 4min30s\n",
    "\n",
    "GPU tf.float16 21.9"
   ]
  },
  {
   "cell_type": "code",
   "execution_count": null,
   "metadata": {},
   "outputs": [],
   "source": []
  }
 ],
 "metadata": {
  "kernelspec": {
   "display_name": "Python 3",
   "language": "python",
   "name": "python3"
  },
  "language_info": {
   "codemirror_mode": {
    "name": "ipython",
    "version": 3
   },
   "file_extension": ".py",
   "mimetype": "text/x-python",
   "name": "python",
   "nbconvert_exporter": "python",
   "pygments_lexer": "ipython3",
   "version": "3.7.6"
  },
  "toc": {
   "base_numbering": 1,
   "nav_menu": {
    "height": "179px",
    "width": "284px"
   },
   "number_sections": true,
   "sideBar": true,
   "skip_h1_title": false,
   "title_cell": "Table of Contents",
   "title_sidebar": "Contents",
   "toc_cell": false,
   "toc_position": {},
   "toc_section_display": true,
   "toc_window_display": false
  },
  "varInspector": {
   "cols": {
    "lenName": 16,
    "lenType": 16,
    "lenVar": 40
   },
   "kernels_config": {
    "python": {
     "delete_cmd_postfix": "",
     "delete_cmd_prefix": "del ",
     "library": "var_list.py",
     "varRefreshCmd": "print(var_dic_list())"
    },
    "r": {
     "delete_cmd_postfix": ") ",
     "delete_cmd_prefix": "rm(",
     "library": "var_list.r",
     "varRefreshCmd": "cat(var_dic_list()) "
    }
   },
   "types_to_exclude": [
    "module",
    "function",
    "builtin_function_or_method",
    "instance",
    "_Feature"
   ],
   "window_display": false
  }
 },
 "nbformat": 4,
 "nbformat_minor": 2
}
